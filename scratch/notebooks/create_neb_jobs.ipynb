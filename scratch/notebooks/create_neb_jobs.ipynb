{
 "cells": [
  {
   "cell_type": "markdown",
   "metadata": {},
   "source": [
    "This notebook is used to manaully create the vasp jobs for vacancy and neb calculations somewhat. This needs to be integreated into the forge workflow. "
   ]
  },
  {
   "cell_type": "markdown",
   "metadata": {},
   "source": [
    "# load in the libraries"
   ]
  },
  {
   "cell_type": "code",
   "execution_count": 19,
   "metadata": {},
   "outputs": [],
   "source": [
    "from ase.io import read,write\n",
    "from ase.build import bulk \n",
    "from ase.optimize.precon import PreconLBFGS\n",
    "from ase.filters import FrechetCellFilter"
   ]
  },
  {
   "cell_type": "code",
   "execution_count": 20,
   "metadata": {},
   "outputs": [],
   "source": [
    "def relaxer(atoms, calc, relax_cell = True, fmax=0.01, steps=100):\n",
    "    new_atoms = atoms.copy()\n",
    "    new_atoms.calc = calc\n",
    "\n",
    "    if relax_cell:\n",
    "        fcf = FrechetCellFilter(new_atoms)\n",
    "        relaxer = PreconLBFGS(fcf, use_armijo=True)\n",
    "    else:\n",
    "        relaxer = PreconLBFGS(new_atoms, use_armijo=True)\n",
    "    \n",
    "    relaxer.run(fmax=fmax, steps=steps)\n",
    "    \n",
    "    return new_atoms"
   ]
  },
  {
   "cell_type": "markdown",
   "metadata": {},
   "source": [
    "# Load in the perfect structures"
   ]
  },
  {
   "cell_type": "code",
   "execution_count": 10,
   "metadata": {},
   "outputs": [
    {
     "name": "stdout",
     "output_type": "stream",
     "text": [
      "Atoms(symbols='V125', pbc=True, cell=[[-7.5249999999999995, 7.5249999999999995, 7.5249999999999995], [7.5249999999999995, -7.5249999999999995, 7.5249999999999995], [7.5249999999999995, 7.5249999999999995, -7.5249999999999995]])\n"
     ]
    }
   ],
   "source": [
    "v = bulk('V', 'bcc', a=3.01) * (5,5,5)\n",
    "print(v)\n",
    "write('v.xyz', v)"
   ]
  },
  {
   "cell_type": "code",
   "execution_count": 14,
   "metadata": {},
   "outputs": [
    {
     "name": "stdout",
     "output_type": "stream",
     "text": [
      "['../alex-mrs-ce/data/CE_Structures_11-26_NEB_Structures/V0_920-Cr0_030-Ti0_030-W0_010-Zr0_010_final.cif', '../alex-mrs-ce/data/CE_Structures_11-26_NEB_Structures/V0_790-Cr0_050-Ti0_050-W0_050-Zr0_050_final.cif', '../alex-mrs-ce/data/CE_Structures_11-26_NEB_Structures/V0_920-Cr0_020-Ti0_020-W0_020-Zr0_020_final.cif', '../alex-mrs-ce/data/CE_Structures_11-26_NEB_Structures/V0_800-Cr0_075-Ti0_075-W0_025-Zr0_025_final.cif', '../alex-mrs-ce/data/CE_Structures_11-26_NEB_Structures/V0_920-Cr0_040-Ti0_040_final.cif', '../alex-mrs-ce/data/CE_Structures_11-26_NEB_Structures/V0_800-Cr0_025-Ti0_025-W0_075-Zr0_075_final.cif', '../alex-mrs-ce/data/CE_Structures_11-26_NEB_Structures/V0_920-Cr0_010-Ti0_010-W0_030-Zr0_030_final.cif']\n"
     ]
    }
   ],
   "source": [
    "# get all the structures with final in it\n",
    "from glob import glob\n",
    "cif_files = glob('../alex-mrs-ce/data/CE_Structures_11-26_NEB_Structures/*final.cif')\n",
    "print(cif_files)"
   ]
  },
  {
   "cell_type": "code",
   "execution_count": 15,
   "metadata": {},
   "outputs": [
    {
     "name": "stdout",
     "output_type": "stream",
     "text": [
      "[Atoms(symbols='Cr4Ti4V115WZr', pbc=True, cell=[[13.03368233, 0.0, 0.0], [-4.344560775703545, 12.288273546172888, 0.0], [-4.344560775703545, -6.144136771043355, 10.64195706081759]], spacegroup_kinds=...), Atoms(symbols='Cr6Ti6V99W6Zr8', pbc=True, cell=[[13.03368233, 0.0, 0.0], [-4.344560775703545, 12.288273546172888, 0.0], [-4.344560775703545, -6.144136771043355, 10.64195706081759]], spacegroup_kinds=...), Atoms(symbols='Cr2Ti2V115W2Zr4', pbc=True, cell=[[13.03368233, 0.0, 0.0], [-4.344560775703545, 12.288273546172888, 0.0], [-4.344560775703545, -6.144136771043355, 10.64195706081759]], spacegroup_kinds=...), Atoms(symbols='Cr9Ti9V100W3Zr4', pbc=True, cell=[[13.03368233, 0.0, 0.0], [-4.344560775703545, 12.288273546172888, 0.0], [-4.344560775703545, -6.144136771043355, 10.64195706081759]], spacegroup_kinds=...), Atoms(symbols='Cr5Ti5V115', pbc=True, cell=[[13.03368233, 0.0, 0.0], [-4.344560775703545, 12.288273546172888, 0.0], [-4.344560775703545, -6.144136771043355, 10.64195706081759]], spacegroup_kinds=...), Atoms(symbols='Cr3Ti3V100W9Zr10', pbc=True, cell=[[13.03368233, 0.0, 0.0], [-4.344560775703545, 12.288273546172888, 0.0], [-4.344560775703545, -6.144136771043355, 10.64195706081759]], spacegroup_kinds=...), Atoms(symbols='CrTiV115W4Zr4', pbc=True, cell=[[13.03368233, 0.0, 0.0], [-4.344560775703545, 12.288273546172888, 0.0], [-4.344560775703545, -6.144136771043355, 10.64195706081759]], spacegroup_kinds=...)]\n"
     ]
    }
   ],
   "source": [
    "#read each cif file in cif_files into the list \n",
    "structures = [read(cif) for cif in cif_files]\n",
    "print(structures)"
   ]
  },
  {
   "cell_type": "markdown",
   "metadata": {},
   "source": [
    "# Relax the perfect structure and make a vasp job for it"
   ]
  },
  {
   "cell_type": "code",
   "execution_count": 36,
   "metadata": {},
   "outputs": [
    {
     "name": "stderr",
     "output_type": "stream",
     "text": [
      "/opt/homebrew/Caskroom/miniforge/base/envs/allegro/lib/python3.10/site-packages/torch/serialization.py:779: UserWarning: 'torch.load' received a zip file that looks like a TorchScript archive dispatching to 'torch.jit.load' (call 'torch.jit.load' directly to silence this warning)\n",
      "  warnings.warn(\"'torch.load' received a zip file that looks like a TorchScript archive\"\n"
     ]
    },
    {
     "name": "stdout",
     "output_type": "stream",
     "text": [
      "PreconLBFGS:   0  15:23:21    -1106.557129       4.2415       0.0090\n",
      "PreconLBFGS:   1  15:23:22    -1109.991211       3.5853       0.0025\n",
      "PreconLBFGS:   2  15:23:23    -1112.380371       3.2743       0.0012\n",
      "PreconLBFGS:   3  15:23:23    -1113.509521       3.1108       0.0021\n",
      "PreconLBFGS:   4  15:23:23    -1114.331299       2.9885       0.0024\n",
      "PreconLBFGS:   5  15:23:23    -1115.018677       2.8812       0.0026\n",
      "PreconLBFGS:   6  15:23:24    -1115.632935       2.7800       0.0026\n",
      "PreconLBFGS:   7  15:23:24    -1116.201904       2.6807       0.0025\n",
      "PreconLBFGS:   8  15:23:24    -1116.739990       2.5807       0.0024\n",
      "PreconLBFGS:   9  15:23:25    -1117.255371       2.4787       0.0023\n",
      "PreconLBFGS:  10  15:23:25    -1117.753052       2.3737       0.0022\n",
      "PreconLBFGS:  11  15:23:25    -1118.235840       2.2651       0.0020\n",
      "PreconLBFGS:  12  15:23:26    -1118.705444       2.1528       0.0018\n",
      "PreconLBFGS:  13  15:23:26    -1119.159058       2.0374       0.0016\n",
      "PreconLBFGS:  14  15:23:26    -1119.595703       1.9195       0.0014\n",
      "PreconLBFGS:  15  15:23:26    -1120.015381       1.7993       0.0012\n",
      "PreconLBFGS:  16  15:23:27    -1120.418091       1.6770       0.0011\n",
      "PreconLBFGS:  17  15:23:27    -1120.803345       1.5528       0.0009\n",
      "PreconLBFGS:  18  15:23:27    -1121.170776       1.4266       0.0007\n",
      "PreconLBFGS:  19  15:23:28    -1121.520142       1.2982       0.0005\n",
      "PreconLBFGS:  20  15:23:28    -1121.850464       1.1673       0.0003\n",
      "PreconLBFGS:  21  15:23:28    -1122.161133       1.0331       0.0003\n",
      "PreconLBFGS:  22  15:23:29    -1122.450684       0.8943       0.0006\n",
      "PreconLBFGS:  23  15:23:29    -1122.717407       0.7486       0.0009\n",
      "PreconLBFGS:  24  15:23:29    -1122.957642       0.5917       0.0012\n",
      "PreconLBFGS:  25  15:23:30    -1123.164917       0.4143       0.0015\n",
      "PreconLBFGS:  26  15:23:30    -1123.355103       0.0553       0.0024\n",
      "PreconLBFGS:  27  15:23:30    -1123.359253       0.0337       0.0016\n",
      "PreconLBFGS:  28  15:23:30    -1123.362427       0.0185       0.0003\n",
      "PreconLBFGS:  29  15:23:31    -1123.362793       0.0160       0.0004\n",
      "PreconLBFGS:  30  15:23:31    -1123.363159       0.0093       0.0004\n",
      "PreconLBFGS:   0  15:23:31    -1112.122925       4.5972       0.0671\n",
      "PreconLBFGS:   1  15:23:32    -1113.538940       4.3894       0.0640\n",
      "PreconLBFGS:   2  15:23:33    -1115.031128       4.2206       0.0608\n",
      "PreconLBFGS:   3  15:23:33    -1116.811646       4.0272       0.0572\n",
      "PreconLBFGS:   4  15:23:33    -1118.768066       3.7767       0.0535\n",
      "PreconLBFGS:   5  15:23:33    -1120.816406       3.5103       0.0495\n",
      "PreconLBFGS:   6  15:23:34    -1122.703857       3.2169       0.0458\n",
      "PreconLBFGS:   7  15:23:34    -1124.348145       2.9489       0.0423\n",
      "PreconLBFGS:   8  15:23:34    -1125.698730       2.7017       0.0393\n",
      "PreconLBFGS:   9  15:23:34    -1126.810425       2.4875       0.0366\n",
      "PreconLBFGS:  10  15:23:35    -1127.726318       2.2973       0.0341\n",
      "PreconLBFGS:  11  15:23:35    -1128.495850       2.1288       0.0319\n",
      "PreconLBFGS:  12  15:23:35    -1129.150757       1.9770       0.0299\n",
      "PreconLBFGS:  13  15:23:35    -1129.716431       1.8386       0.0280\n",
      "PreconLBFGS:  14  15:23:36    -1130.210083       1.7112       0.0262\n",
      "PreconLBFGS:  15  15:23:36    -1130.644897       1.5929       0.0246\n",
      "PreconLBFGS:  16  15:23:36    -1131.030151       1.4823       0.0230\n",
      "PreconLBFGS:  17  15:23:37    -1131.373413       1.3783       0.0215\n",
      "PreconLBFGS:  18  15:23:37    -1131.680176       1.2801       0.0201\n",
      "PreconLBFGS:  19  15:23:37    -1131.955078       1.1871       0.0187\n",
      "PreconLBFGS:  20  15:23:37    -1132.201660       1.0988       0.0174\n",
      "PreconLBFGS:  21  15:23:38    -1132.422974       1.0147       0.0162\n",
      "PreconLBFGS:  22  15:23:38    -1132.621338       0.9346       0.0150\n",
      "PreconLBFGS:  23  15:23:38    -1132.799072       0.8581       0.0138\n",
      "PreconLBFGS:  24  15:23:39    -1132.957886       0.7851       0.0127\n",
      "PreconLBFGS:  25  15:23:39    -1133.099365       0.7153       0.0117\n",
      "PreconLBFGS:  26  15:23:39    -1133.225098       0.6485       0.0107\n",
      "PreconLBFGS:  27  15:23:39    -1133.336182       0.5846       0.0097\n",
      "PreconLBFGS:  28  15:23:40    -1133.433716       0.5233       0.0087\n",
      "PreconLBFGS:  29  15:23:40    -1133.519043       0.4647       0.0078\n",
      "PreconLBFGS:  30  15:23:40    -1133.593018       0.4084       0.0070\n",
      "PreconLBFGS:  31  15:23:41    -1133.656494       0.3545       0.0061\n",
      "PreconLBFGS:  32  15:23:41    -1133.710327       0.3028       0.0053\n",
      "PreconLBFGS:  33  15:23:41    -1133.754761       0.2539       0.0045\n",
      "PreconLBFGS:  34  15:23:41    -1133.790649       0.2083       0.0038\n",
      "PreconLBFGS:  35  15:23:42    -1133.818848       0.1658       0.0032\n",
      "PreconLBFGS:  36  15:23:42    -1133.840698       0.1264       0.0026\n",
      "PreconLBFGS:  37  15:23:42    -1133.857056       0.1052       0.0021\n",
      "PreconLBFGS:  38  15:23:43    -1133.868896       0.0909       0.0016\n",
      "PreconLBFGS:  39  15:23:43    -1133.877075       0.0792       0.0011\n",
      "PreconLBFGS:  40  15:23:43    -1133.882690       0.0701       0.0007\n",
      "PreconLBFGS:  41  15:23:43    -1133.886597       0.0632       0.0009\n",
      "PreconLBFGS:  42  15:23:44    -1133.891113       0.0733       0.0014\n",
      "PreconLBFGS:  43  15:23:44    -1133.894287       0.0741       0.0016\n",
      "PreconLBFGS:  44  15:23:44    -1133.898071       0.0692       0.0016\n",
      "PreconLBFGS:  45  15:23:45    -1133.902100       0.0621       0.0015\n",
      "PreconLBFGS:  46  15:23:45    -1133.905884       0.0539       0.0013\n",
      "PreconLBFGS:  47  15:23:45    -1133.909302       0.0435       0.0011\n",
      "PreconLBFGS:  48  15:23:45    -1133.911987       0.0320       0.0009\n",
      "PreconLBFGS:  49  15:23:46    -1133.913940       0.0202       0.0007\n",
      "PreconLBFGS:  50  15:23:47    -1133.915649       0.0151       0.0004\n",
      "PreconLBFGS:  51  15:23:47    -1133.915894       0.0152       0.0004\n",
      "PreconLBFGS:  52  15:23:47    -1133.916382       0.0141       0.0005\n",
      "PreconLBFGS:  53  15:23:48    -1133.917114       0.0112       0.0004\n",
      "PreconLBFGS:  54  15:23:48    -1133.917725       0.0111       0.0004\n",
      "PreconLBFGS:  55  15:23:48    -1133.918213       0.0116       0.0002\n",
      "PreconLBFGS:  56  15:23:48    -1133.918457       0.0110       0.0002\n",
      "PreconLBFGS:  57  15:23:49    -1133.918945       0.0109       0.0002\n",
      "PreconLBFGS:  58  15:23:49    -1133.919189       0.0100       0.0002\n",
      "PreconLBFGS:   0  15:23:49    -1103.886230       4.4045       0.0314\n",
      "PreconLBFGS:   1  15:23:50    -1106.612305       3.9048       0.0261\n",
      "PreconLBFGS:   2  15:23:50    -1110.902344       3.3248       0.0188\n",
      "PreconLBFGS:   3  15:23:51    -1114.285400       2.9351       0.0142\n",
      "PreconLBFGS:   4  15:23:51    -1116.220825       2.6584       0.0120\n",
      "PreconLBFGS:   5  15:23:51    -1117.591309       2.4555       0.0108\n",
      "PreconLBFGS:   6  15:23:52    -1118.729858       2.2671       0.0099\n",
      "PreconLBFGS:   7  15:23:52    -1119.736084       2.0867       0.0092\n",
      "PreconLBFGS:   8  15:23:53    -1120.659424       1.9048       0.0086\n",
      "PreconLBFGS:   9  15:23:53    -1121.524048       1.7174       0.0080\n",
      "PreconLBFGS:  10  15:23:53    -1122.344604       1.5199       0.0074\n",
      "PreconLBFGS:  11  15:23:54    -1123.130127       1.3072       0.0069\n",
      "PreconLBFGS:  12  15:23:54    -1123.887939       1.0699       0.0063\n",
      "PreconLBFGS:  13  15:23:54    -1124.624634       0.7859       0.0057\n",
      "PreconLBFGS:  14  15:23:55    -1125.473999       0.1775       0.0055\n",
      "PreconLBFGS:  15  15:23:55    -1125.505249       0.1085       0.0036\n",
      "PreconLBFGS:  16  15:23:55    -1125.517456       0.0951       0.0024\n",
      "PreconLBFGS:  17  15:23:56    -1125.526978       0.0989       0.0012\n",
      "PreconLBFGS:  18  15:23:56    -1125.536865       0.1018       0.0010\n",
      "PreconLBFGS:  19  15:23:56    -1125.539429       0.0973       0.0012\n",
      "PreconLBFGS:  20  15:23:57    -1125.543945       0.0862       0.0011\n",
      "PreconLBFGS:  21  15:23:57    -1125.553101       0.0569       0.0004\n",
      "PreconLBFGS:  22  15:23:57    -1125.556885       0.0568       0.0002\n",
      "PreconLBFGS:  23  15:23:58    -1125.563721       0.0525       0.0010\n",
      "PreconLBFGS:  24  15:23:58    -1125.567505       0.0377       0.0010\n",
      "PreconLBFGS:  25  15:23:58    -1125.570435       0.0282       0.0004\n",
      "PreconLBFGS:  26  15:23:58    -1125.571777       0.0224       0.0003\n",
      "PreconLBFGS:  27  15:23:59    -1125.572632       0.0142       0.0004\n",
      "PreconLBFGS:  28  15:23:59    -1125.572998       0.0103       0.0003\n",
      "PreconLBFGS:  29  15:23:59    -1125.573242       0.0080       0.0002\n",
      "PreconLBFGS:   0  15:24:00    -1104.107666       5.6970       0.0360\n",
      "PreconLBFGS:   1  15:24:01    -1106.557495       4.8285       0.0312\n",
      "PreconLBFGS:   2  15:24:01    -1110.304321       4.5061       0.0247\n",
      "PreconLBFGS:   3  15:24:01    -1113.487061       3.6226       0.0200\n",
      "PreconLBFGS:   4  15:24:01    -1115.852661       3.2372       0.0168\n",
      "PreconLBFGS:   5  15:24:02    -1117.800537       2.6686       0.0143\n",
      "PreconLBFGS:   6  15:24:02    -1119.375854       2.2353       0.0123\n",
      "PreconLBFGS:   7  15:24:02    -1120.698486       1.7525       0.0105\n",
      "PreconLBFGS:   8  15:24:03    -1121.778564       1.2867       0.0088\n",
      "PreconLBFGS:   9  15:24:03    -1122.590698       0.8072       0.0072\n",
      "PreconLBFGS:  10  15:24:03    -1122.934692       0.5100       0.0059\n",
      "PreconLBFGS:  11  15:24:04    -1123.063965       0.3468       0.0049\n",
      "PreconLBFGS:  12  15:24:04    -1123.127075       0.2360       0.0039\n",
      "PreconLBFGS:  13  15:24:04    -1123.161499       0.1521       0.0030\n",
      "PreconLBFGS:  14  15:24:04    -1123.180664       0.0855       0.0021\n",
      "PreconLBFGS:  15  15:24:05    -1123.194580       0.0480       0.0006\n",
      "PreconLBFGS:  16  15:24:05    -1123.196167       0.0440       0.0008\n",
      "PreconLBFGS:  17  15:24:05    -1123.199951       0.0266       0.0013\n",
      "PreconLBFGS:  18  15:24:06    -1123.201050       0.0192       0.0012\n",
      "PreconLBFGS:  19  15:24:06    -1123.202637       0.0179       0.0008\n",
      "PreconLBFGS:  20  15:24:06    -1123.203857       0.0188       0.0009\n",
      "PreconLBFGS:  21  15:24:07    -1123.204590       0.0175       0.0011\n",
      "PreconLBFGS:  22  15:24:07    -1123.205444       0.0169       0.0011\n",
      "PreconLBFGS:  23  15:24:07    -1123.206299       0.0159       0.0012\n",
      "PreconLBFGS:  24  15:24:08    -1123.207031       0.0149       0.0012\n",
      "PreconLBFGS:  25  15:24:08    -1123.207764       0.0175       0.0012\n",
      "PreconLBFGS:  26  15:24:08    -1123.208496       0.0200       0.0011\n",
      "PreconLBFGS:  27  15:24:08    -1123.209229       0.0223       0.0011\n",
      "PreconLBFGS:  28  15:24:09    -1123.209961       0.0245       0.0011\n",
      "PreconLBFGS:  29  15:24:09    -1123.210693       0.0264       0.0010\n",
      "PreconLBFGS:  30  15:24:09    -1123.211304       0.0283       0.0010\n",
      "PreconLBFGS:  31  15:24:10    -1123.212036       0.0300       0.0010\n",
      "PreconLBFGS:  32  15:24:10    -1123.212769       0.0316       0.0009\n",
      "PreconLBFGS:  33  15:24:10    -1123.213379       0.0331       0.0009\n",
      "PreconLBFGS:  34  15:24:11    -1123.214111       0.0345       0.0009\n",
      "PreconLBFGS:  35  15:24:11    -1123.214844       0.0359       0.0008\n",
      "PreconLBFGS:  36  15:24:11    -1123.215454       0.0372       0.0008\n",
      "PreconLBFGS:  37  15:24:11    -1123.216187       0.0384       0.0008\n",
      "PreconLBFGS:  38  15:24:12    -1123.216919       0.0396       0.0008\n",
      "PreconLBFGS:  39  15:24:12    -1123.217651       0.0408       0.0007\n",
      "PreconLBFGS:  40  15:24:12    -1123.218262       0.0419       0.0007\n",
      "PreconLBFGS:  41  15:24:13    -1123.218994       0.0431       0.0008\n",
      "PreconLBFGS:  42  15:24:13    -1123.219727       0.0441       0.0008\n",
      "PreconLBFGS:  43  15:24:13    -1123.220459       0.0452       0.0008\n",
      "PreconLBFGS:  44  15:24:13    -1123.221191       0.0463       0.0008\n",
      "PreconLBFGS:  45  15:24:14    -1123.221924       0.0473       0.0009\n",
      "PreconLBFGS:  46  15:24:14    -1123.222656       0.0483       0.0009\n",
      "PreconLBFGS:  47  15:24:14    -1123.223389       0.0493       0.0009\n",
      "PreconLBFGS:  48  15:24:15    -1123.224121       0.0503       0.0010\n",
      "PreconLBFGS:  49  15:24:15    -1123.224976       0.0513       0.0010\n",
      "PreconLBFGS:  50  15:24:15    -1123.225708       0.0523       0.0010\n",
      "PreconLBFGS:  51  15:24:16    -1123.226440       0.0533       0.0010\n",
      "PreconLBFGS:  52  15:24:16    -1123.227173       0.0543       0.0011\n",
      "PreconLBFGS:  53  15:24:16    -1123.227905       0.0553       0.0011\n",
      "PreconLBFGS:  54  15:24:17    -1123.228760       0.0563       0.0011\n",
      "PreconLBFGS:  55  15:24:17    -1123.229492       0.0573       0.0012\n",
      "PreconLBFGS:  56  15:24:17    -1123.230225       0.0582       0.0012\n",
      "PreconLBFGS:  57  15:24:18    -1123.231079       0.0592       0.0012\n",
      "PreconLBFGS:  58  15:24:18    -1123.231812       0.0602       0.0012\n",
      "PreconLBFGS:  59  15:24:18    -1123.232666       0.0612       0.0013\n",
      "PreconLBFGS:  60  15:24:19    -1123.233398       0.0622       0.0013\n",
      "PreconLBFGS:  61  15:24:19    -1123.234131       0.0631       0.0013\n",
      "PreconLBFGS:  62  15:24:19    -1123.234985       0.0641       0.0014\n",
      "PreconLBFGS:  63  15:24:19    -1123.235718       0.0651       0.0014\n",
      "PreconLBFGS:  64  15:24:20    -1123.236572       0.0661       0.0014\n",
      "PreconLBFGS:  65  15:24:20    -1123.237305       0.0671       0.0014\n",
      "PreconLBFGS:  66  15:24:20    -1123.238159       0.0681       0.0015\n",
      "PreconLBFGS:  67  15:24:21    -1123.238892       0.0690       0.0015\n",
      "PreconLBFGS:  68  15:24:21    -1123.239746       0.0700       0.0015\n",
      "PreconLBFGS:  69  15:24:21    -1123.240601       0.0710       0.0016\n",
      "PreconLBFGS:  70  15:24:21    -1123.241333       0.0720       0.0016\n",
      "PreconLBFGS:  71  15:24:22    -1123.242188       0.0730       0.0016\n",
      "PreconLBFGS:  72  15:24:22    -1123.242920       0.0740       0.0016\n",
      "PreconLBFGS:  73  15:24:22    -1123.243774       0.0750       0.0017\n",
      "PreconLBFGS:  74  15:24:23    -1123.244629       0.0760       0.0017\n",
      "PreconLBFGS:  75  15:24:23    -1123.245361       0.0770       0.0017\n",
      "PreconLBFGS:  76  15:24:23    -1123.246216       0.0779       0.0018\n",
      "PreconLBFGS:  77  15:24:24    -1123.247070       0.0789       0.0018\n",
      "PreconLBFGS:  78  15:24:24    -1123.247803       0.0799       0.0018\n",
      "PreconLBFGS:  79  15:24:24    -1123.248657       0.0809       0.0019\n",
      "PreconLBFGS:  80  15:24:25    -1123.249512       0.0819       0.0019\n",
      "PreconLBFGS:  81  15:24:25    -1123.250244       0.0829       0.0019\n",
      "PreconLBFGS:  82  15:24:25    -1123.251099       0.0839       0.0019\n",
      "PreconLBFGS:  83  15:24:26    -1123.251953       0.0849       0.0020\n",
      "PreconLBFGS:  84  15:24:26    -1123.252808       0.0858       0.0020\n",
      "PreconLBFGS:  85  15:24:26    -1123.253540       0.0868       0.0020\n",
      "PreconLBFGS:  86  15:24:27    -1123.254395       0.0878       0.0021\n",
      "PreconLBFGS:  87  15:24:27    -1123.255249       0.0888       0.0021\n",
      "PreconLBFGS:  88  15:24:27    -1123.256104       0.0897       0.0021\n",
      "PreconLBFGS:  89  15:24:28    -1123.256836       0.0907       0.0022\n",
      "PreconLBFGS:  90  15:24:28    -1123.257690       0.0917       0.0022\n",
      "PreconLBFGS:  91  15:24:28    -1123.258545       0.0926       0.0022\n",
      "PreconLBFGS:  92  15:24:28    -1123.259399       0.0936       0.0022\n",
      "PreconLBFGS:  93  15:24:29    -1123.260254       0.0945       0.0023\n",
      "PreconLBFGS:  94  15:24:29    -1123.260986       0.0955       0.0023\n",
      "PreconLBFGS:  95  15:24:29    -1123.261841       0.0964       0.0023\n",
      "PreconLBFGS:  96  15:24:30    -1123.262695       0.0973       0.0024\n",
      "PreconLBFGS:  97  15:24:30    -1123.263550       0.0983       0.0024\n",
      "PreconLBFGS:  98  15:24:30    -1123.264404       0.0992       0.0024\n",
      "PreconLBFGS:  99  15:24:31    -1123.265259       0.1001       0.0024\n",
      "PreconLBFGS: 100  15:24:31    -1123.266113       0.1010       0.0025\n",
      "PreconLBFGS:   0  15:24:31    -1103.824219       3.5956       0.0022\n",
      "PreconLBFGS:   1  15:24:32    -1107.227051       3.0710       0.0074\n",
      "PreconLBFGS:   2  15:24:32    -1108.778564       2.8865       0.0088\n",
      "PreconLBFGS:   3  15:24:33    -1109.686035       2.7731       0.0093\n",
      "PreconLBFGS:   4  15:24:33    -1110.390869       2.6827       0.0094\n",
      "PreconLBFGS:   5  15:24:33    -1110.998901       2.6017       0.0093\n",
      "PreconLBFGS:   6  15:24:34    -1111.550903       2.5252       0.0092\n",
      "PreconLBFGS:   7  15:24:34    -1112.066406       2.4506       0.0090\n",
      "PreconLBFGS:   8  15:24:34    -1112.556030       2.3767       0.0088\n",
      "PreconLBFGS:   9  15:24:35    -1113.025391       2.3026       0.0085\n",
      "PreconLBFGS:  10  15:24:35    -1113.478149       2.2280       0.0083\n",
      "PreconLBFGS:  11  15:24:35    -1113.916260       2.1526       0.0080\n",
      "PreconLBFGS:  12  15:24:36    -1114.340942       2.0762       0.0077\n",
      "PreconLBFGS:  13  15:24:36    -1114.752930       1.9989       0.0074\n",
      "PreconLBFGS:  14  15:24:36    -1115.152588       1.9206       0.0071\n",
      "PreconLBFGS:  15  15:24:37    -1115.540039       1.8413       0.0067\n",
      "PreconLBFGS:  16  15:24:37    -1115.915405       1.7610       0.0064\n",
      "PreconLBFGS:  17  15:24:37    -1116.278564       1.6798       0.0061\n",
      "PreconLBFGS:  18  15:24:38    -1116.629517       1.5976       0.0057\n",
      "PreconLBFGS:  19  15:24:38    -1116.968140       1.5146       0.0054\n",
      "PreconLBFGS:  20  15:24:38    -1117.294312       1.4306       0.0050\n",
      "PreconLBFGS:  21  15:24:38    -1117.607788       1.3457       0.0046\n",
      "PreconLBFGS:  22  15:24:39    -1117.908325       1.2598       0.0043\n",
      "PreconLBFGS:  23  15:24:39    -1118.195801       1.1729       0.0039\n",
      "PreconLBFGS:  24  15:24:39    -1118.469849       1.0847       0.0035\n",
      "PreconLBFGS:  25  15:24:40    -1118.730103       0.9952       0.0031\n",
      "PreconLBFGS:  26  15:24:40    -1118.976074       0.9040       0.0027\n",
      "PreconLBFGS:  27  15:24:40    -1119.206909       0.8107       0.0022\n",
      "PreconLBFGS:  28  15:24:41    -1119.421753       0.7146       0.0018\n",
      "PreconLBFGS:  29  15:24:41    -1119.619141       0.6150       0.0013\n",
      "PreconLBFGS:  30  15:24:41    -1119.797363       0.5104       0.0009\n",
      "PreconLBFGS:  31  15:24:42    -1119.953003       0.3987       0.0004\n",
      "PreconLBFGS:  32  15:24:42    -1120.081421       0.2756       0.0005\n",
      "PreconLBFGS:  33  15:24:43    -1120.195679       0.0593       0.0015\n",
      "PreconLBFGS:  34  15:24:43    -1120.197632       0.0359       0.0009\n",
      "PreconLBFGS:  35  15:24:44    -1120.199463       0.0161       0.0002\n",
      "PreconLBFGS:  36  15:24:44    -1120.199585       0.0107       0.0002\n",
      "PreconLBFGS:  37  15:24:44    -1120.199707       0.0052       0.0001\n",
      "PreconLBFGS:   0  15:24:45    -1123.885864       6.6263       0.0826\n",
      "PreconLBFGS:   1  15:24:46    -1125.257690       6.1934       0.0794\n",
      "PreconLBFGS:   2  15:24:47    -1126.418945       6.0611       0.0767\n",
      "PreconLBFGS:   3  15:24:47    -1127.668091       5.8253       0.0738\n",
      "PreconLBFGS:   4  15:24:47    -1128.923950       5.6135       0.0710\n",
      "PreconLBFGS:   5  15:24:48    -1130.186523       5.4202       0.0682\n",
      "PreconLBFGS:   6  15:24:48    -1131.394287       5.1514       0.0654\n",
      "PreconLBFGS:   7  15:24:49    -1132.524048       4.9840       0.0628\n",
      "PreconLBFGS:   8  15:24:49    -1133.559204       4.7242       0.0602\n",
      "PreconLBFGS:   9  15:24:49    -1134.495361       4.5642       0.0579\n",
      "PreconLBFGS:  10  15:24:50    -1135.342041       4.3439       0.0556\n",
      "PreconLBFGS:  11  15:24:50    -1136.106079       4.1879       0.0535\n",
      "PreconLBFGS:  12  15:24:50    -1136.800293       4.0048       0.0515\n",
      "PreconLBFGS:  13  15:24:51    -1137.432495       3.8546       0.0495\n",
      "PreconLBFGS:  14  15:24:51    -1138.012329       3.6989       0.0477\n",
      "PreconLBFGS:  15  15:24:51    -1138.545654       3.5565       0.0459\n",
      "PreconLBFGS:  16  15:24:52    -1139.039185       3.4196       0.0442\n",
      "PreconLBFGS:  17  15:24:52    -1139.496582       3.2861       0.0426\n",
      "PreconLBFGS:  18  15:24:52    -1139.922485       3.1623       0.0410\n",
      "PreconLBFGS:  19  15:24:53    -1140.319580       3.0381       0.0395\n",
      "PreconLBFGS:  20  15:24:53    -1140.691040       2.9237       0.0380\n",
      "PreconLBFGS:  21  15:24:53    -1141.038574       2.8086       0.0366\n",
      "PreconLBFGS:  22  15:24:54    -1141.364624       2.7016       0.0352\n",
      "PreconLBFGS:  23  15:24:54    -1141.670532       2.5948       0.0339\n",
      "PreconLBFGS:  24  15:24:54    -1141.957886       2.4943       0.0326\n",
      "PreconLBFGS:  25  15:24:54    -1142.228149       2.3949       0.0314\n",
      "PreconLBFGS:  26  15:24:55    -1142.482300       2.3002       0.0301\n",
      "PreconLBFGS:  27  15:24:55    -1142.721558       2.2074       0.0290\n",
      "PreconLBFGS:  28  15:24:55    -1142.946655       2.1182       0.0278\n",
      "PreconLBFGS:  29  15:24:56    -1143.158691       2.0311       0.0267\n",
      "PreconLBFGS:  30  15:24:56    -1143.358276       1.9469       0.0256\n",
      "PreconLBFGS:  31  15:24:56    -1143.546143       1.8650       0.0246\n",
      "PreconLBFGS:  32  15:24:56    -1143.723022       1.7856       0.0236\n",
      "PreconLBFGS:  33  15:24:57    -1143.889526       1.7083       0.0226\n",
      "PreconLBFGS:  34  15:24:57    -1144.046143       1.6332       0.0216\n",
      "PreconLBFGS:  35  15:24:57    -1144.193359       1.5601       0.0207\n",
      "PreconLBFGS:  36  15:24:58    -1144.331787       1.4890       0.0198\n",
      "PreconLBFGS:  37  15:24:58    -1144.461914       1.4198       0.0189\n",
      "PreconLBFGS:  38  15:24:58    -1144.583984       1.3524       0.0180\n",
      "PreconLBFGS:  39  15:24:58    -1144.698486       1.2866       0.0171\n",
      "PreconLBFGS:  40  15:24:59    -1144.805786       1.2226       0.0163\n",
      "PreconLBFGS:  41  15:24:59    -1144.906250       1.1601       0.0155\n",
      "PreconLBFGS:  42  15:24:59    -1145.000244       1.0991       0.0147\n",
      "PreconLBFGS:  43  15:25:00    -1145.087891       1.0395       0.0139\n",
      "PreconLBFGS:  44  15:25:00    -1145.169678       0.9813       0.0132\n",
      "PreconLBFGS:  45  15:25:00    -1145.245728       0.9245       0.0124\n",
      "PreconLBFGS:  46  15:25:00    -1145.316284       0.8689       0.0117\n",
      "PreconLBFGS:  47  15:25:01    -1145.381836       0.8146       0.0110\n",
      "PreconLBFGS:  48  15:25:01    -1145.442261       0.7614       0.0103\n",
      "PreconLBFGS:  49  15:25:01    -1145.497925       0.7093       0.0096\n",
      "PreconLBFGS:  50  15:25:02    -1145.549072       0.6583       0.0089\n",
      "PreconLBFGS:  51  15:25:02    -1145.595947       0.6084       0.0083\n",
      "PreconLBFGS:  52  15:25:02    -1145.638428       0.5595       0.0076\n",
      "PreconLBFGS:  53  15:25:02    -1145.677002       0.5115       0.0070\n",
      "PreconLBFGS:  54  15:25:03    -1145.711670       0.4645       0.0064\n",
      "PreconLBFGS:  55  15:25:03    -1145.742676       0.4185       0.0058\n",
      "PreconLBFGS:  56  15:25:03    -1145.770142       0.3734       0.0052\n",
      "PreconLBFGS:  57  15:25:03    -1145.794067       0.3291       0.0046\n",
      "PreconLBFGS:  58  15:25:04    -1145.814819       0.2858       0.0040\n",
      "PreconLBFGS:  59  15:25:04    -1145.832397       0.2434       0.0035\n",
      "PreconLBFGS:  60  15:25:04    -1145.847046       0.2019       0.0029\n",
      "PreconLBFGS:  61  15:25:05    -1145.858765       0.1614       0.0024\n",
      "PreconLBFGS:  62  15:25:05    -1145.867798       0.1220       0.0018\n",
      "PreconLBFGS:  63  15:25:05    -1145.874146       0.0836       0.0013\n",
      "PreconLBFGS:  64  15:25:06    -1145.878296       0.0468       0.0008\n",
      "PreconLBFGS:  65  15:25:06    -1145.880371       0.0103       0.0002\n",
      "PreconLBFGS:  66  15:25:06    -1145.880493       0.0098       0.0002\n",
      "PreconLBFGS:   0  15:25:06    -1116.475586       4.5360       0.0324\n",
      "PreconLBFGS:   1  15:25:07    -1118.762573       3.8020       0.0276\n",
      "PreconLBFGS:   2  15:25:08    -1122.389893       3.5272       0.0209\n",
      "PreconLBFGS:   3  15:25:08    -1125.347778       2.8813       0.0163\n",
      "PreconLBFGS:   4  15:25:08    -1127.179932       2.5975       0.0139\n",
      "PreconLBFGS:   5  15:25:09    -1128.479126       2.3067       0.0123\n",
      "PreconLBFGS:   6  15:25:09    -1129.558350       2.0701       0.0111\n",
      "PreconLBFGS:   7  15:25:09    -1130.506836       1.8286       0.0101\n",
      "PreconLBFGS:   8  15:25:10    -1131.368774       1.5891       0.0091\n",
      "PreconLBFGS:   9  15:25:10    -1132.164551       1.3373       0.0082\n",
      "PreconLBFGS:  10  15:25:10    -1132.904907       1.0633       0.0073\n",
      "PreconLBFGS:  11  15:25:11    -1133.593750       0.7415       0.0064\n",
      "PreconLBFGS:  12  15:25:11    -1134.042236       0.4346       0.0055\n",
      "PreconLBFGS:  13  15:25:11    -1134.195923       0.2614       0.0046\n",
      "PreconLBFGS:  14  15:25:12    -1134.251099       0.1636       0.0038\n",
      "PreconLBFGS:  15  15:25:12    -1134.276245       0.0983       0.0030\n",
      "PreconLBFGS:  16  15:25:12    -1134.288696       0.0598       0.0022\n",
      "PreconLBFGS:  17  15:25:13    -1134.296509       0.0252       0.0008\n",
      "PreconLBFGS:  18  15:25:13    -1134.297363       0.0200       0.0006\n",
      "PreconLBFGS:  19  15:25:14    -1134.299072       0.0144       0.0009\n",
      "PreconLBFGS:  20  15:25:14    -1134.299561       0.0097       0.0008\n"
     ]
    }
   ],
   "source": [
    "from mace.calculators.mace import MACECalculator\n",
    "import numpy as np\n",
    "model_paths = ['./models/gen_4_model_0-11-14_b4_stagetwo_compiled.model']\n",
    "calc = MACECalculator(model_paths=model_paths, device='cpu', default_dtype='float32')\n",
    "\n",
    "relaxed_structures = []\n",
    "for i, cif in enumerate(structures):\n",
    "    # perturb the structure very slightly to break symmetry at random\n",
    "    cif.positions += np.random.normal(0.01, 0.1, cif.positions.shape)\n",
    "    relaxed = relaxer(cif, calc, relax_cell=True, fmax=0.01, steps=100)\n",
    "    #relaxed_file = f'relaxed_{i}.cif'\n",
    "    #write(relaxed_file, relaxed)\n",
    "    relaxed_structures.append(relaxed)\n",
    "#relaxed_v = relaxer(v, calc, relax_cell=True, fmax=0.01, steps=100)"
   ]
  },
  {
   "cell_type": "code",
   "execution_count": 37,
   "metadata": {},
   "outputs": [],
   "source": [
    "pre_data_path = './data/pre_vasp'\n",
    "for i, relaxed in enumerate(relaxed_structures):\n",
    "    composition = str(relaxed.get_chemical_formula()).replace(' ','')\n",
    "    relaxed_file = f'{pre_data_path}/{composition}.xyz'\n",
    "    write(relaxed_file, relaxed)"
   ]
  },
  {
   "cell_type": "code",
   "execution_count": 13,
   "metadata": {},
   "outputs": [],
   "source": [
    "import os \n",
    "pre_data_path = './data/pre_vasp'\n",
    "os.makedirs(pre_data_path, exist_ok=True)\n",
    "# save the relaxed structure to an xyz file \n",
    "write(os.path.join(pre_data_path,'relaxed_v.xyz'), relaxed_v)"
   ]
  },
  {
   "cell_type": "markdown",
   "metadata": {},
   "source": [
    "# Create Vacancies "
   ]
  },
  {
   "cell_type": "code",
   "execution_count": 21,
   "metadata": {},
   "outputs": [],
   "source": [
    "from ase.io import read\n",
    "#relaxed_v_vasp = read('./data/post_vasp/Perf/v/OUTCAR')\n",
    "#relaxed_vasp = read('./data/post_vasp/Perf/Cr4Ti4V115WZr/OUTCAR_Only/OUTCAR')\n",
    "#relaxed_vasp = read('./data/post_vasp/Perf/Cr5Ti5V115/OUTCAR_Only/OUTCAR-1')\n",
    "#relaxed_vasp = read('./data/post_vasp/Perf/Cr6Ti6V99W6Zr8/OUTCAR_Only/OUTCAR')\n",
    "#relaxed_vasp = read('./data/post_vasp/MRS/Perf/Cr2Ti2V120W2Zr2/OUTCAR')\n",
    "#relaxed_vasp = read('./data/post_vasp/MRS/Perf/Cr5Ti9V107W4Zr3/OUTCAR')\n",
    "#relaxed_vasp = read('./data/post_vasp/MRS/Perf/Cr4Ti7V111W4Zr2/OUTCAR')\n",
    "#relaxed_vasp = read('./data/post_vasp/MRS/Perf/Cr6Ti11V102W6Zr3/OUTCAR')\n",
    "#relaxed_vasp = read('./data/post_vasp/MRS/Perf/Cr3Ti5V115W3Zr2/OUTCAR')\n",
    "#relaxed_vasp = read('../data/vasp_jobs-neb-test/perf_t3/Cr2Ti11V108W3Zr_rank_1/OUTCAR')\n",
    "#relaxed_vasp = read('../data/vasp_jobs-neb-test/perf_t3/Cr4Ti12V107WZr_rank_2/OUTCAR')\n",
    "relaxed_vasp = read('../data/vasp_jobs-neb-test/perf_t3/Cr6Ti5V107W5Zr2_rank_0/OUTCAR')"
   ]
  },
  {
   "cell_type": "code",
   "execution_count": 22,
   "metadata": {},
   "outputs": [
    {
     "name": "stdout",
     "output_type": "stream",
     "text": [
      "Random atom index: 41\n"
     ]
    }
   ],
   "source": [
    "# select atom at random \n",
    "import random\n",
    "#random.seed(42) # seed for V\n",
    "#random.seed(0) # seed for Cr4Ti4V115WZr\n",
    "#random.seed(1) # seed for Cr5Ti5V115\n",
    "#random.seed(2) # seed for Cr6Ti6V99W6Zr8\n",
    "\n",
    "# for MRS\n",
    "#random.seed(0) # seed for Cr2Ti2V120W2Zr2\n",
    "#random.seed(1) # seed for Cr5Ti9V107W4Zr3\n",
    "#random.seed(2) # seed for Cr4Ti7V111W4Zr2\n",
    "#random.seed(3) # seed for Cr6Ti11V102W6Zr3\n",
    "#random.seed(4) # seed for Cr3Ti5V115W3Zr2\n",
    "#random.seed(5) # seed for Cr2Ti11V108W3Zr\n",
    "#random.seed(6) # seed for Cr4Ti12V107WZr\n",
    "random.seed(7) # seed for Cr6Ti5V107W5Zr2\n",
    "\n",
    "# get the number of atoms in the relaxed_v_vasp structure\n",
    "n_atoms = len(relaxed_vasp)\n",
    "\n",
    "# select a random atom index\n",
    "random_atom_index = random.randint(0, n_atoms-1)\n",
    "print(f'Random atom index: {random_atom_index}')"
   ]
  },
  {
   "cell_type": "markdown",
   "metadata": {},
   "source": [
    "## working neigbor finder"
   ]
  },
  {
   "cell_type": "code",
   "execution_count": 23,
   "metadata": {},
   "outputs": [
    {
     "name": "stdout",
     "output_type": "stream",
     "text": [
      "Nearest neighbors:\n",
      "Found 8 neighbors\n",
      "Atom 12: 2.536 Å\n",
      "Atom 36: 2.597 Å\n",
      "Atom 17: 2.624 Å\n",
      "Atom 62: 2.624 Å\n",
      "Atom 42: 2.626 Å\n",
      "Atom 40: 2.633 Å\n",
      "Atom 8: 2.700 Å\n",
      "Atom 46: 2.702 Å\n",
      "\n",
      "Next-nearest neighbors:\n",
      "Found 6 neighbors\n",
      "Atom 13: 2.954 Å\n",
      "Atom 35: 2.976 Å\n",
      "Atom 6: 3.009 Å\n",
      "Atom 118: 3.057 Å\n",
      "Atom 119: 3.106 Å\n",
      "Atom 63: 3.121 Å\n"
     ]
    }
   ],
   "source": [
    "from ase.build import bulk\n",
    "import numpy as np\n",
    "from ase.neighborlist import NeighborList\n",
    "import numpy as np\n",
    "from ase.neighborlist import NeighborList\n",
    "\n",
    "def get_neighbors_cutoff(atoms, index, nn_cutoff=2.8, nnn_cutoff=3.2):\n",
    "    \"\"\"\n",
    "    Get nearest and next-nearest neighbors using distance cutoffs.\n",
    "    \n",
    "    Parameters:\n",
    "    -----------\n",
    "    atoms : ase.Atoms\n",
    "        The atomic structure\n",
    "    index : int\n",
    "        Index of the atom to find neighbors for\n",
    "    nn_cutoff : float\n",
    "        Cutoff radius for nearest neighbors (default: 2.8 Å for V)\n",
    "    nnn_cutoff : float\n",
    "        Cutoff radius for next-nearest neighbors (default: 3.2 Å for V)\n",
    "    \n",
    "    Returns:\n",
    "    --------\n",
    "    dict\n",
    "        Dictionary containing nearest and next-nearest neighbor information\n",
    "    \"\"\"\n",
    "    # Create a neighbor list with the larger cutoff\n",
    "    cutoff = nnn_cutoff\n",
    "    nl = NeighborList([cutoff/2] * len(atoms), skin=0.0, self_interaction=False, bothways=True)\n",
    "    nl.update(atoms)\n",
    "    \n",
    "    # Get all neighbors and distances\n",
    "    indices, offsets = nl.get_neighbors(index)\n",
    "    positions = atoms.positions\n",
    "    cell = atoms.get_cell()\n",
    "    distances = []\n",
    "    \n",
    "    for i, offset in zip(indices, offsets):\n",
    "        pos_i = positions[i] + np.dot(offset, cell)\n",
    "        dist = np.linalg.norm(pos_i - positions[index])\n",
    "        distances.append(dist)\n",
    "    \n",
    "    distances = np.array(distances)\n",
    "    \n",
    "    # Separate into NN and NNN based on distances\n",
    "    nn_mask = distances <= nn_cutoff\n",
    "    nnn_mask = (distances > nn_cutoff) & (distances <= nnn_cutoff)\n",
    "    \n",
    "    # Sort both sets by distance\n",
    "    nn_indices = indices[nn_mask]\n",
    "    nn_distances = distances[nn_mask]\n",
    "    nn_sort = np.argsort(nn_distances)\n",
    "    \n",
    "    nnn_indices = indices[nnn_mask]\n",
    "    nnn_distances = distances[nnn_mask]\n",
    "    nnn_sort = np.argsort(nnn_distances)\n",
    "    \n",
    "    return {\n",
    "        'nn_indices': nn_indices[nn_sort],\n",
    "        'nn_distances': nn_distances[nn_sort],\n",
    "        'nnn_indices': nnn_indices[nnn_sort],\n",
    "        'nnn_distances': nnn_distances[nnn_sort]\n",
    "    }\n",
    "\n",
    "from ase.build import bulk\n",
    "\n",
    "# Create 5x5x5 BCC Vanadium supercell\n",
    "v = bulk('V', 'bcc', a=3.01, cubic=True)*(4,4,4)\n",
    "\n",
    "# Get neighbors for atom index 0\n",
    "results = get_neighbors_cutoff(relaxed_vasp, random_atom_index)\n",
    "\n",
    "print(\"Nearest neighbors:\")\n",
    "print(f\"Found {len(results['nn_indices'])} neighbors\")\n",
    "for idx, dist in zip(results['nn_indices'], results['nn_distances']):\n",
    "    print(f\"Atom {idx}: {dist:.3f} Å\")\n",
    "\n",
    "print(\"\\nNext-nearest neighbors:\")\n",
    "print(f\"Found {len(results['nnn_indices'])} neighbors\")\n",
    "for idx, dist in zip(results['nnn_indices'], results['nnn_distances']):\n",
    "    print(f\"Atom {idx}: {dist:.3f} Å\")"
   ]
  },
  {
   "cell_type": "code",
   "execution_count": 24,
   "metadata": {},
   "outputs": [
    {
     "name": "stdout",
     "output_type": "stream",
     "text": [
      "{'nn_indices': array([12, 36, 17, 62, 42, 40,  8, 46]), 'nn_distances': array([2.53569705, 2.59740429, 2.62365515, 2.62404167, 2.62563417,\n",
      "       2.63256615, 2.70001413, 2.70154064]), 'nnn_indices': array([ 13,  35,   6, 118, 119,  63]), 'nnn_distances': array([2.95412184, 2.97636875, 3.00893369, 3.05743114, 3.10592807,\n",
      "       3.12120226])}\n"
     ]
    }
   ],
   "source": [
    "print(results)"
   ]
  },
  {
   "cell_type": "code",
   "execution_count": 25,
   "metadata": {},
   "outputs": [
    {
     "name": "stdout",
     "output_type": "stream",
     "text": [
      "Random nearest neighbor index: 17\n"
     ]
    }
   ],
   "source": [
    "# pick one of the nearest neighbors at random\n",
    "random_nn_index = random.choice(results['nn_indices'])\n",
    "print(f'Random nearest neighbor index: {random_nn_index}')"
   ]
  },
  {
   "cell_type": "code",
   "execution_count": 26,
   "metadata": {},
   "outputs": [
    {
     "name": "stdout",
     "output_type": "stream",
     "text": [
      "Position of random atom in start structure: [ 2.97043  2.97612 -0.05892]\n",
      "Position of random nearest neighbor in end structure: [ 4.50367  1.4844  -1.57797]\n",
      "Removed random atom from start and end structures\n",
      "Indices of atoms in start structure: [0, 1, 2, 3, 4, 5, 6, 7, 8, 9, 10, 11, 12, 13, 14, 15, 16, 17, 18, 19, 20, 21, 22, 23, 24, 25, 26, 27, 28, 29, 30, 31, 32, 33, 34, 35, 36, 37, 38, 39, 40, 41, 42, 43, 44, 45, 46, 47, 48, 49, 50, 51, 52, 53, 54, 55, 56, 57, 58, 59, 60, 61, 62, 63, 64, 65, 66, 67, 68, 69, 70, 71, 72, 73, 74, 75, 76, 77, 78, 79, 80, 81, 82, 83, 84, 85, 86, 87, 88, 89, 90, 91, 92, 93, 94, 95, 96, 97, 98, 99, 100, 101, 102, 103, 104, 105, 106, 107, 108, 109, 110, 111, 112, 113, 114, 115, 116, 117, 118, 119, 120, 121, 122, 123]\n",
      "Indices of atoms in end structure: [0, 1, 2, 3, 4, 5, 6, 7, 8, 9, 10, 11, 12, 13, 14, 15, 16, 17, 18, 19, 20, 21, 22, 23, 24, 25, 26, 27, 28, 29, 30, 31, 32, 33, 34, 35, 36, 37, 38, 39, 40, 41, 42, 43, 44, 45, 46, 47, 48, 49, 50, 51, 52, 53, 54, 55, 56, 57, 58, 59, 60, 61, 62, 63, 64, 65, 66, 67, 68, 69, 70, 71, 72, 73, 74, 75, 76, 77, 78, 79, 80, 81, 82, 83, 84, 85, 86, 87, 88, 89, 90, 91, 92, 93, 94, 95, 96, 97, 98, 99, 100, 101, 102, 103, 104, 105, 106, 107, 108, 109, 110, 111, 112, 113, 114, 115, 116, 117, 118, 119, 120, 121, 122, 123]\n",
      "Position of random nearest neighbor in end structure after moving: [ 2.97043  2.97612 -0.05892]\n"
     ]
    }
   ],
   "source": [
    "# create two copies of start and end structures\n",
    "start = relaxed_vasp.copy()\n",
    "end = relaxed_vasp.copy()\n",
    "\n",
    "# get the positions of the random atom and its nearest neighbor\n",
    "start_pos = start.positions[random_atom_index]\n",
    "end_pos = end.positions[random_nn_index]\n",
    "print(f\"Position of random atom in start structure: {start_pos}\")\n",
    "print(f\"Position of random nearest neighbor in end structure: {end_pos}\")\n",
    "\n",
    "# remove the random atom for both start and end structures \n",
    "start.pop(random_atom_index)\n",
    "end.pop(random_atom_index)\n",
    "print(f\"Removed random atom from start and end structures\")\n",
    "start_indices = [atom.index for atom in start]\n",
    "end_indices = [atom.index for atom in end]\n",
    "print(f\"Indices of atoms in start structure: {start_indices}\")\n",
    "print(f\"Indices of atoms in end structure: {end_indices}\")\n",
    "# move the random_nn_index atom to the position of the random atom in the end structure\n",
    "end.positions[random_nn_index] = start_pos\n",
    "print(f\"Position of random nearest neighbor in end structure after moving: {end.positions[random_nn_index]}\")"
   ]
  },
  {
   "cell_type": "code",
   "execution_count": 10,
   "metadata": {},
   "outputs": [
    {
     "name": "stderr",
     "output_type": "stream",
     "text": [
      "/opt/homebrew/Caskroom/miniforge/base/envs/mace/lib/python3.11/site-packages/e3nn/o3/_wigner.py:10: FutureWarning: You are using `torch.load` with `weights_only=False` (the current default value), which uses the default pickle module implicitly. It is possible to construct malicious pickle data which will execute arbitrary code during unpickling (See https://github.com/pytorch/pytorch/blob/main/SECURITY.md#untrusted-models for more details). In a future release, the default value for `weights_only` will be flipped to `True`. This limits the functions that could be executed during unpickling. Arbitrary objects will no longer be allowed to be loaded via this mode unless they are explicitly allowlisted by the user via `torch.serialization.add_safe_globals`. We recommend you start setting `weights_only=True` for any use case where you don't have full control of the loaded file. Please open an issue on GitHub for any issues related to this experimental feature.\n",
      "  _Jd, _W3j_flat, _W3j_indices = torch.load(os.path.join(os.path.dirname(__file__), 'constants.pt'))\n",
      "/opt/homebrew/Caskroom/miniforge/base/envs/mace/lib/python3.11/site-packages/mace/calculators/mace.py:128: FutureWarning: You are using `torch.load` with `weights_only=False` (the current default value), which uses the default pickle module implicitly. It is possible to construct malicious pickle data which will execute arbitrary code during unpickling (See https://github.com/pytorch/pytorch/blob/main/SECURITY.md#untrusted-models for more details). In a future release, the default value for `weights_only` will be flipped to `True`. This limits the functions that could be executed during unpickling. Arbitrary objects will no longer be allowed to be loaded via this mode unless they are explicitly allowlisted by the user via `torch.serialization.add_safe_globals`. We recommend you start setting `weights_only=True` for any use case where you don't have full control of the loaded file. Please open an issue on GitHub for any issues related to this experimental feature.\n",
      "  torch.load(f=model_path, map_location=device)\n"
     ]
    },
    {
     "name": "stdout",
     "output_type": "stream",
     "text": [
      "PreconLBFGS:   0  11:48:04    -1107.936768       0.4631\n",
      "PreconLBFGS:   1  11:48:05    -1108.058472       0.3717\n",
      "PreconLBFGS:   2  11:48:05    -1108.183716       0.3455\n",
      "PreconLBFGS:   3  11:48:05    -1108.266846       0.2847\n",
      "PreconLBFGS:   4  11:48:05    -1108.318115       0.1942\n",
      "PreconLBFGS:   5  11:48:06    -1108.346924       0.1136\n",
      "PreconLBFGS:   6  11:48:06    -1108.358276       0.0817\n",
      "PreconLBFGS:   7  11:48:06    -1108.367188       0.0293\n",
      "PreconLBFGS:   8  11:48:06    -1108.367920       0.0236\n",
      "PreconLBFGS:   9  11:48:06    -1108.368652       0.0151\n",
      "PreconLBFGS:  10  11:48:06    -1108.368896       0.0114\n",
      "PreconLBFGS:  11  11:48:07    -1108.369141       0.0078\n",
      "PreconLBFGS:   0  11:48:07    -1107.980103       0.3700\n",
      "PreconLBFGS:   1  11:48:08    -1108.075562       0.3032\n",
      "PreconLBFGS:   2  11:48:08    -1108.227661       0.2417\n",
      "PreconLBFGS:   3  11:48:08    -1108.264404       0.1611\n",
      "PreconLBFGS:   4  11:48:08    -1108.303955       0.0892\n",
      "PreconLBFGS:   5  11:48:08    -1108.315308       0.0399\n",
      "PreconLBFGS:   6  11:48:09    -1108.317505       0.0255\n",
      "PreconLBFGS:   7  11:48:09    -1108.318604       0.0234\n",
      "PreconLBFGS:   8  11:48:09    -1108.319092       0.0075\n"
     ]
    }
   ],
   "source": [
    "from mace.calculators.mace import MACECalculator\n",
    "import numpy as np\n",
    "model_paths = ['./models/gen_5_model_0-11-28_stagetwo.model']\n",
    "calc = MACECalculator(model_paths=model_paths, device='cpu', default_dtype='float32')\n",
    "#relax the start and end structures\n",
    "relaxed_start = relaxer(start, calc, relax_cell=False, fmax=0.01, steps=100)\n",
    "relaxed_end = relaxer(end, calc, relax_cell=False, fmax=0.01, steps=100)"
   ]
  },
  {
   "cell_type": "code",
   "execution_count": 27,
   "metadata": {},
   "outputs": [],
   "source": [
    "import os\n",
    "from ase.io import read,write\n",
    "# write the start and end structures to xyz files \n",
    "#output_path = './data/pre_vasp/MRS/Vac/Cr3Ti5V115W3Zr2'\n",
    "#output_path = '../data/vasp_jobs-neb-test/vac_t3/Cr2Ti11V108W3Zr_rank_1'\n",
    "#output_path = '../data/vasp_jobs-neb-test/vac_t3/Cr4Ti12V107WZr_rank_2'\n",
    "output_path = '../data/vasp_jobs-neb-test/vac_t3/Cr6Ti5V107W5Zr2_rank_0'\n",
    "\n",
    "if not os.path.exists(output_path):\n",
    "    os.makedirs(output_path)\n",
    "    \n",
    "write(os.path.join(output_path, f'rel_start_{random_atom_index}.xyz'), start)\n",
    "write(os.path.join(output_path, f'rel_end_{random_nn_index}.xyz'), end)\n"
   ]
  },
  {
   "cell_type": "markdown",
   "metadata": {},
   "source": [
    "### Create Vacancy Jobs in VASP "
   ]
  },
  {
   "cell_type": "code",
   "execution_count": 28,
   "metadata": {},
   "outputs": [],
   "source": [
    "start_poscar = read(os.path.join(output_path, f'rel_start_{random_atom_index}.xyz'))\n",
    "end_poscar = read(os.path.join(output_path, f'rel_end_{random_nn_index}.xyz'))\n",
    "write(os.path.join(output_path, f'POSCAR_0'), start_poscar, format='vasp')\n",
    "write(os.path.join(output_path, f'POSCAR_1'), end_poscar, format='vasp')\n",
    "\n",
    "\n"
   ]
  },
  {
   "cell_type": "markdown",
   "metadata": {},
   "source": [
    "# Create NEB Barriers"
   ]
  },
  {
   "cell_type": "code",
   "execution_count": 1,
   "metadata": {},
   "outputs": [],
   "source": [
    "from ase.io import read,write\n",
    "from ase.mep import DyNEB\n",
    "\n",
    "#start_path = './data/post_vasp/Vac/Cr5Ti5V115/Rel_Start_17/OUTCAR'\n",
    "#end_path ='./data/post_vasp/Vac/Cr5Ti5V115/Rel_End_23/OUTCAR'\n",
    "#start_path = './data/post_vasp/MRS/Vac/Cr2Ti2V120W2Zr2/Start_Index_98/OUTCAR'\n",
    "#end_path = './data/post_vasp/MRS/Vac/Cr2Ti2V120W2Zr2/End_Index_117/OUTCAR'\n",
    "\n",
    "#start_path = './data/post_vasp/MRS/Vac/Cr5Ti9V107W4Zr3/Start_Index_34/OUTCAR'\n",
    "#end_path = './data/post_vasp/MRS/Vac/Cr5Ti9V107W4Zr3/End_Index_110/OUTCAR'\n",
    "\n",
    "start_path = '../data/vasp_jobs-neb-test/vac_t3/Cr6Ti5V107W5Zr2_rank_0/Start_Index_41/OUTCAR'\n",
    "end_path = '../data/vasp_jobs-neb-test/vac_t3/Cr6Ti5V107W5Zr2_rank_0/End_Index_17/OUTCAR'\n",
    "\n",
    "\n",
    "\n",
    "start_relaxed =  read(start_path)\n",
    "end_relaxed = read(end_path)"
   ]
  },
  {
   "cell_type": "code",
   "execution_count": 2,
   "metadata": {},
   "outputs": [],
   "source": [
    "images = [start_relaxed]\n",
    "images += [start_relaxed.copy() for i in range(5)]\n",
    "images += [end_relaxed]"
   ]
  },
  {
   "cell_type": "code",
   "execution_count": 2,
   "metadata": {},
   "outputs": [],
   "source": [
    "import os \n",
    "from ase.io import read\n",
    "# run if you already did neb\n",
    "#pre_neb_path = '/Users/myless/Packages/summit_analysis/data/post_vasp/NEB/Cr5Ti5V115'\n",
    "pre_neb_path = './data/post_vasp/MRS/NEB/Cr2Ti2V120W2Zr2'\n",
    "if not os.path.exists(pre_neb_path):\n",
    "    os.makedirs(pre_neb_path)\n",
    "images = [read(os.path.join(pre_neb_path,f'POSCAR_{i}.xyz')) for i in range(7)]"
   ]
  },
  {
   "cell_type": "code",
   "execution_count": 3,
   "metadata": {},
   "outputs": [],
   "source": [
    "from ase.mep import DyNEB\n",
    "neb = DyNEB(images, k=0.1, climb=True)\n",
    "neb.interpolate(mic=True)"
   ]
  },
  {
   "cell_type": "code",
   "execution_count": 4,
   "metadata": {},
   "outputs": [
    {
     "data": {
      "text/plain": [
       "'../data/vasp_jobs-neb-test/neb_t3/Cr6Ti5V107W5Zr2_rank_0/06/OUTCAR'"
      ]
     },
     "execution_count": 4,
     "metadata": {},
     "output_type": "execute_result"
    }
   ],
   "source": [
    "import os\n",
    "# write the intepolated images to a poscar as POSCAR files \n",
    "#data_path = './data/pre_vasp/NEB/Cr5Ti5V115_preconv'\n",
    "#data_path = './data/pre_vasp/MRS/NEB/Cr2Ti2V120W2Zr2'\n",
    "#data_path = './data/pre_vasp/MRS/NEB/Cr5Ti9V107W4Zr3'\n",
    "data_path = '../data/vasp_jobs-neb-test/neb_t3/Cr6Ti5V107W5Zr2_rank_0'\n",
    "\n",
    "if not os.path.exists(data_path):\n",
    "    os.makedirs(data_path)\n",
    "\n",
    "for i, image in enumerate(neb.images):\n",
    "    folder_path = os.path.join(data_path, f\"0{i}\")\n",
    "    if not os.path.exists(folder_path):\n",
    "        os.makedirs(folder_path)\n",
    "    write(os.path.join(folder_path,\"POSCAR\"), image)\n",
    "    write(os.path.join(data_path, f\"POSCAR_{i}.xyz\"),image)\n",
    "\n",
    "# copy the start_path and end_path to data_path,\"00\" and \"06\" respectively\n",
    "\n",
    "import shutil\n",
    "shutil.copy(start_path, os.path.join(data_path, \"00\",\"OUTCAR\"))\n",
    "shutil.copy(end_path, os.path.join(data_path, \"06\",\"OUTCAR\"))\n"
   ]
  },
  {
   "cell_type": "code",
   "execution_count": 4,
   "metadata": {},
   "outputs": [
    {
     "name": "stderr",
     "output_type": "stream",
     "text": [
      "/opt/homebrew/Caskroom/miniforge/base/envs/mace/lib/python3.11/site-packages/e3nn/o3/_wigner.py:10: FutureWarning: You are using `torch.load` with `weights_only=False` (the current default value), which uses the default pickle module implicitly. It is possible to construct malicious pickle data which will execute arbitrary code during unpickling (See https://github.com/pytorch/pytorch/blob/main/SECURITY.md#untrusted-models for more details). In a future release, the default value for `weights_only` will be flipped to `True`. This limits the functions that could be executed during unpickling. Arbitrary objects will no longer be allowed to be loaded via this mode unless they are explicitly allowlisted by the user via `torch.serialization.add_safe_globals`. We recommend you start setting `weights_only=True` for any use case where you don't have full control of the loaded file. Please open an issue on GitHub for any issues related to this experimental feature.\n",
      "  _Jd, _W3j_flat, _W3j_indices = torch.load(os.path.join(os.path.dirname(__file__), 'constants.pt'))\n",
      "/opt/homebrew/Caskroom/miniforge/base/envs/mace/lib/python3.11/site-packages/mace/calculators/mace.py:128: FutureWarning: You are using `torch.load` with `weights_only=False` (the current default value), which uses the default pickle module implicitly. It is possible to construct malicious pickle data which will execute arbitrary code during unpickling (See https://github.com/pytorch/pytorch/blob/main/SECURITY.md#untrusted-models for more details). In a future release, the default value for `weights_only` will be flipped to `True`. This limits the functions that could be executed during unpickling. Arbitrary objects will no longer be allowed to be loaded via this mode unless they are explicitly allowlisted by the user via `torch.serialization.add_safe_globals`. We recommend you start setting `weights_only=True` for any use case where you don't have full control of the loaded file. Please open an issue on GitHub for any issues related to this experimental feature.\n",
      "  torch.load(f=model_path, map_location=device)\n",
      "/opt/homebrew/Caskroom/miniforge/base/envs/mace/lib/python3.11/site-packages/mace/calculators/mace.py:128: FutureWarning: You are using `torch.load` with `weights_only=False` (the current default value), which uses the default pickle module implicitly. It is possible to construct malicious pickle data which will execute arbitrary code during unpickling (See https://github.com/pytorch/pytorch/blob/main/SECURITY.md#untrusted-models for more details). In a future release, the default value for `weights_only` will be flipped to `True`. This limits the functions that could be executed during unpickling. Arbitrary objects will no longer be allowed to be loaded via this mode unless they are explicitly allowlisted by the user via `torch.serialization.add_safe_globals`. We recommend you start setting `weights_only=True` for any use case where you don't have full control of the loaded file. Please open an issue on GitHub for any issues related to this experimental feature.\n",
      "  torch.load(f=model_path, map_location=device)\n",
      "/opt/homebrew/Caskroom/miniforge/base/envs/mace/lib/python3.11/site-packages/mace/calculators/mace.py:128: FutureWarning: You are using `torch.load` with `weights_only=False` (the current default value), which uses the default pickle module implicitly. It is possible to construct malicious pickle data which will execute arbitrary code during unpickling (See https://github.com/pytorch/pytorch/blob/main/SECURITY.md#untrusted-models for more details). In a future release, the default value for `weights_only` will be flipped to `True`. This limits the functions that could be executed during unpickling. Arbitrary objects will no longer be allowed to be loaded via this mode unless they are explicitly allowlisted by the user via `torch.serialization.add_safe_globals`. We recommend you start setting `weights_only=True` for any use case where you don't have full control of the loaded file. Please open an issue on GitHub for any issues related to this experimental feature.\n",
      "  torch.load(f=model_path, map_location=device)\n",
      "/opt/homebrew/Caskroom/miniforge/base/envs/mace/lib/python3.11/site-packages/mace/calculators/mace.py:128: FutureWarning: You are using `torch.load` with `weights_only=False` (the current default value), which uses the default pickle module implicitly. It is possible to construct malicious pickle data which will execute arbitrary code during unpickling (See https://github.com/pytorch/pytorch/blob/main/SECURITY.md#untrusted-models for more details). In a future release, the default value for `weights_only` will be flipped to `True`. This limits the functions that could be executed during unpickling. Arbitrary objects will no longer be allowed to be loaded via this mode unless they are explicitly allowlisted by the user via `torch.serialization.add_safe_globals`. We recommend you start setting `weights_only=True` for any use case where you don't have full control of the loaded file. Please open an issue on GitHub for any issues related to this experimental feature.\n",
      "  torch.load(f=model_path, map_location=device)\n",
      "/opt/homebrew/Caskroom/miniforge/base/envs/mace/lib/python3.11/site-packages/mace/calculators/mace.py:128: FutureWarning: You are using `torch.load` with `weights_only=False` (the current default value), which uses the default pickle module implicitly. It is possible to construct malicious pickle data which will execute arbitrary code during unpickling (See https://github.com/pytorch/pytorch/blob/main/SECURITY.md#untrusted-models for more details). In a future release, the default value for `weights_only` will be flipped to `True`. This limits the functions that could be executed during unpickling. Arbitrary objects will no longer be allowed to be loaded via this mode unless they are explicitly allowlisted by the user via `torch.serialization.add_safe_globals`. We recommend you start setting `weights_only=True` for any use case where you don't have full control of the loaded file. Please open an issue on GitHub for any issues related to this experimental feature.\n",
      "  torch.load(f=model_path, map_location=device)\n",
      "/opt/homebrew/Caskroom/miniforge/base/envs/mace/lib/python3.11/site-packages/mace/calculators/mace.py:128: FutureWarning: You are using `torch.load` with `weights_only=False` (the current default value), which uses the default pickle module implicitly. It is possible to construct malicious pickle data which will execute arbitrary code during unpickling (See https://github.com/pytorch/pytorch/blob/main/SECURITY.md#untrusted-models for more details). In a future release, the default value for `weights_only` will be flipped to `True`. This limits the functions that could be executed during unpickling. Arbitrary objects will no longer be allowed to be loaded via this mode unless they are explicitly allowlisted by the user via `torch.serialization.add_safe_globals`. We recommend you start setting `weights_only=True` for any use case where you don't have full control of the loaded file. Please open an issue on GitHub for any issues related to this experimental feature.\n",
      "  torch.load(f=model_path, map_location=device)\n",
      "/opt/homebrew/Caskroom/miniforge/base/envs/mace/lib/python3.11/site-packages/mace/calculators/mace.py:128: FutureWarning: You are using `torch.load` with `weights_only=False` (the current default value), which uses the default pickle module implicitly. It is possible to construct malicious pickle data which will execute arbitrary code during unpickling (See https://github.com/pytorch/pytorch/blob/main/SECURITY.md#untrusted-models for more details). In a future release, the default value for `weights_only` will be flipped to `True`. This limits the functions that could be executed during unpickling. Arbitrary objects will no longer be allowed to be loaded via this mode unless they are explicitly allowlisted by the user via `torch.serialization.add_safe_globals`. We recommend you start setting `weights_only=True` for any use case where you don't have full control of the loaded file. Please open an issue on GitHub for any issues related to this experimental feature.\n",
      "  torch.load(f=model_path, map_location=device)\n"
     ]
    }
   ],
   "source": [
    "# use the prediction model to predict the energy of the images\n",
    "from mace.calculators.mace import MACECalculator\n",
    "from ase.optimize import FIRE\n",
    "\n",
    "model_paths = ['./models/gen_5_model_0-11-28_stagetwo.model']\n",
    "#calc = MACECalculator(model_paths=model_paths, device='cpu', default_dtype='float32')\n",
    "for image in neb.images:\n",
    "    image.calc = MACECalculator(model_paths=model_paths, device='cpu', default_dtype='float32')\n",
    "opt = FIRE(neb)\n"
   ]
  },
  {
   "cell_type": "code",
   "execution_count": 5,
   "metadata": {},
   "outputs": [
    {
     "name": "stdout",
     "output_type": "stream",
     "text": [
      "      Step     Time          Energy          fmax\n",
      "FIRE:    0 19:52:49    -1139.160034        4.503356\n",
      "FIRE:    1 19:52:51    -1139.813354        3.472774\n",
      "FIRE:    2 19:52:52    -1140.580078        2.054349\n",
      "FIRE:    3 19:52:53    -1141.006714        1.375409\n",
      "FIRE:    4 19:52:54    -1141.208008        0.979461\n",
      "FIRE:    5 19:52:55    -1141.276733        0.618901\n",
      "FIRE:    6 19:52:56    -1141.282959        0.621027\n",
      "FIRE:    7 19:52:57    -1141.276123        0.811151\n",
      "FIRE:    8 19:52:59    -1141.281738        0.854456\n",
      "FIRE:    9 19:53:00    -1141.292480        0.823256\n",
      "FIRE:   10 19:53:01    -1141.312256        0.762601\n",
      "FIRE:   11 19:53:02    -1141.338501        0.675781\n",
      "FIRE:   12 19:53:03    -1141.367310        0.568673\n",
      "FIRE:   13 19:53:04    -1141.395264        0.447275\n",
      "FIRE:   14 19:53:05    -1141.418823        0.315870\n",
      "FIRE:   15 19:53:07    -1141.435913        0.180804\n",
      "FIRE:   16 19:53:08    -1141.446045        0.103128\n",
      "FIRE:   17 19:53:10    -1141.448242        0.165731\n",
      "FIRE:   18 19:53:11    -1141.444702        0.255144\n",
      "FIRE:   19 19:53:13    -1141.445312        0.251117\n",
      "FIRE:   20 19:53:14    -1141.446411        0.243128\n",
      "FIRE:   21 19:53:15    -1141.447876        0.231303\n",
      "FIRE:   22 19:53:16    -1141.449829        0.215854\n",
      "FIRE:   23 19:53:18    -1141.452026        0.197048\n",
      "FIRE:   24 19:53:19    -1141.454468        0.175237\n",
      "FIRE:   25 19:53:21    -1141.456787        0.150848\n",
      "FIRE:   26 19:53:22    -1141.459473        0.121393\n",
      "FIRE:   27 19:53:23    -1141.461914        0.109985\n",
      "FIRE:   28 19:53:24    -1141.464233        0.102057\n",
      "FIRE:   29 19:53:26    -1141.465942        0.094649\n",
      "FIRE:   30 19:53:26    -1141.467041        0.087465\n",
      "FIRE:   31 19:53:27    -1141.467529        0.098481\n",
      "FIRE:   32 19:53:28    -1141.468018        0.114438\n",
      "FIRE:   33 19:53:29    -1141.468872        0.123242\n",
      "FIRE:   34 19:53:31    -1141.470581        0.119115\n",
      "FIRE:   35 19:53:31    -1141.472900        0.111387\n",
      "FIRE:   36 19:53:33    -1141.475220        0.105102\n",
      "FIRE:   37 19:53:34    -1141.476562        0.085063\n",
      "FIRE:   38 19:53:35    -1141.476562        0.087106\n",
      "FIRE:   39 19:53:36    -1141.476440        0.081104\n",
      "FIRE:   40 19:53:37    -1141.477783        0.072363\n",
      "FIRE:   41 19:53:37    -1141.480713        0.086776\n",
      "FIRE:   42 19:53:38    -1141.480713        0.066259\n",
      "FIRE:   43 19:53:39    -1141.480713        0.045621\n"
     ]
    },
    {
     "data": {
      "text/plain": [
       "True"
      ]
     },
     "execution_count": 5,
     "metadata": {},
     "output_type": "execute_result"
    }
   ],
   "source": [
    "opt.run(fmax=0.05, steps=200)"
   ]
  },
  {
   "cell_type": "code",
   "execution_count": 6,
   "metadata": {},
   "outputs": [
    {
     "name": "stdout",
     "output_type": "stream",
     "text": [
      "MACE Barrier energy: 1.4786376953125 eV\n",
      "VASP Barrier energy: 3.6625406900000144 eV\n",
      "Absolute Error: 2.1839029946875144 eV\n",
      "Percent Error: -59.63%\n",
      "MACE MAE: 0.0072495912093172524 eV/atom\n"
     ]
    },
    {
     "data": {
      "image/png": "[encoded data removed]",
      "text/plain": [
       "<Figure size 640x480 with 1 Axes>"
      ]
     },
     "metadata": {},
     "output_type": "display_data"
    }
   ],
   "source": [
    "import matplotlib.pyplot as plt\n",
    "from sklearn.metrics import mean_absolute_error\n",
    "import numpy as np\n",
    "energies = [image.get_potential_energy() for image in neb.images]\n",
    "norm_energies = [energy - energies[0] for energy in energies]\n",
    "print(f\"MACE Barrier energy: {max(norm_energies)} eV\")\n",
    "plt.plot(norm_energies, marker='o')\n",
    "\n",
    "outcar_data_path = './data/post_vasp/MRS/NEB/Cr2Ti2V120W2Zr2/Outcars'\n",
    "vasp_energies = [read(os.path.join(outcar_data_path,f'OUTCAR_{i}')).get_potential_energy() for i in range(7)]\n",
    "norm_vasp_energies = [energy - vasp_energies[0] for energy in vasp_energies]\n",
    "print(f\"VASP Barrier energy: {max(norm_vasp_energies)} eV\")\n",
    "plt.plot(norm_vasp_energies, marker='o')\n",
    "\n",
    "predicted_value = norm_energies[0] - max(norm_energies)\n",
    "actual_value = norm_vasp_energies[0] - max(norm_vasp_energies)\n",
    "# Calculate absolute error\n",
    "absolute_error = abs(predicted_value - actual_value)\n",
    "print(f\"Absolute Error: {absolute_error} eV\")\n",
    "# Calculate percent error\n",
    "percent_error = (absolute_error / actual_value) * 100\n",
    "print(f\"Percent Error: {percent_error:.2f}%\")\n",
    "norm_energies = np.array(norm_energies)/124\n",
    "norm_vasp_energies = np.array(norm_vasp_energies)/124\n",
    "print(f\"MACE MAE: {mean_absolute_error(norm_energies, norm_vasp_energies)} eV/atom\")\n",
    "\n",
    "\n",
    "\n",
    "plt.xlabel('Image')\n",
    "plt.ylabel('Energy (eV)')\n",
    "plt.title('NEB Energy Profile')\n",
    "plt.legend(['MACE', 'VASP'])\n",
    "plt.show()\n"
   ]
  },
  {
   "cell_type": "code",
   "execution_count": null,
   "metadata": {},
   "outputs": [
    {
     "name": "stdout",
     "output_type": "stream",
     "text": [
      "Energy of image 0: -1104.50757769 eV\n",
      "Energy of image 1: -1103.65651586 eV\n",
      "Energy of image 2: -1101.0755175 eV\n",
      "Energy of image 3: -1099.90437419 eV\n",
      "Energy of image 4: -1101.10982998 eV\n",
      "Energy of image 5: -1103.66225297 eV\n",
      "Energy of image 6: -1104.49651059 eV\n"
     ]
    }
   ],
   "source": [
    "from pymatgen.io.vasp.outputs import Outcar\n",
    "# read the energies from the OUTCAR files in data_path \n",
    "data_path = './data/post_vasp/NEB/Cr5Ti5V115'\n",
    "\n",
    "vasp_energies = []\n",
    "final_structures = []\n",
    "for i in range(7):\n",
    "    outcar_path = os.path.join(data_path, f\"0{i}\", \"OUTCAR\")\n",
    "    outcar = Outcar(outcar_path)\n",
    "    energy = outcar.final_energy_wo_entrp\n",
    "    vasp_energies.append(energy)\n",
    "    print(f\"Energy of image {i}: {energy} eV\")"
   ]
  },
  {
   "cell_type": "code",
   "execution_count": 11,
   "metadata": {},
   "outputs": [
    {
     "name": "stdout",
     "output_type": "stream",
     "text": [
      "Energy of image 0: -1104.51906741 eV\n",
      "Energy of image 1: -1103.66708863 eV\n",
      "Energy of image 2: -1101.08385891 eV\n",
      "Energy of image 3: -1099.90698866 eV\n",
      "Energy of image 4: -1101.12361742 eV\n",
      "Energy of image 5: -1103.66372659 eV\n",
      "Energy of image 6: -1104.49643406 eV\n"
     ]
    }
   ],
   "source": [
    "final_structures = []\n",
    "ase_energies = []\n",
    "for i in range(7):\n",
    "    outcar_path = os.path.join(data_path, 'Outcars', f\"OUTCAR_0{i}\")\n",
    "    atoms = read(outcar_path)\n",
    "    final_structures.append(atoms)\n",
    "    ase_energies.append(atoms.get_potential_energy())\n",
    "    print(f\"Energy of image {i}: {atoms.get_potential_energy()} eV\")\n"
   ]
  },
  {
   "cell_type": "code",
   "execution_count": 12,
   "metadata": {},
   "outputs": [],
   "source": [
    "# write the atoms \n",
    "from ase.io import write\n",
    "data_path = './data/pre_vasp/NEB_Engrad/Cr5Ti5V115'\n",
    "if not os.path.exists(data_path):\n",
    "    os.makedirs(data_path)\n",
    "\n",
    "write(os.path.join(data_path, 'neb_images.xyz'), final_structures, format='extxyz')"
   ]
  },
  {
   "cell_type": "code",
   "execution_count": 10,
   "metadata": {},
   "outputs": [
    {
     "name": "stdout",
     "output_type": "stream",
     "text": [
      "Barrier energy: 4.603203500000063 eV\n"
     ]
    },
    {
     "data": {
      "text/plain": [
       "[<matplotlib.lines.Line2D at 0x336806390>]"
      ]
     },
     "execution_count": 10,
     "metadata": {},
     "output_type": "execute_result"
    },
    {
     "data": {
      "image/png": "[encoded data removed]",
      "text/plain": [
       "<Figure size 640x480 with 1 Axes>"
      ]
     },
     "metadata": {},
     "output_type": "display_data"
    }
   ],
   "source": [
    "import matplotlib.pyplot as plt\n",
    "norm_energies = [energy - vasp_energies[0] for energy in vasp_energies]\n",
    "print(f\"Barrier energy: {max(norm_energies)} eV\")\n",
    "plt.plot(norm_energies, marker='o')"
   ]
  },
  {
   "cell_type": "code",
   "execution_count": 26,
   "metadata": {},
   "outputs": [
    {
     "name": "stdout",
     "output_type": "stream",
     "text": [
      "Image 0: -1111.14794921875 eV\n",
      "Image 1: -1110.1282958984375 eV\n",
      "Image 2: -1107.7921142578125 eV\n",
      "Image 3: -1106.5908203125 eV\n",
      "Image 4: -1107.8787841796875 eV\n",
      "Image 5: -1110.451416015625 eV\n",
      "Image 6: -1111.4564208984375 eV\n"
     ]
    }
   ],
   "source": [
    "for i, energy in enumerate(energies):\n",
    "    print(f\"Image {i}: {energy} eV\")"
   ]
  },
  {
   "cell_type": "code",
   "execution_count": 23,
   "metadata": {},
   "outputs": [
    {
     "name": "stdout",
     "output_type": "stream",
     "text": [
      "Barrier energy: 0.470703125 eV\n"
     ]
    },
    {
     "data": {
      "text/plain": [
       "[<matplotlib.lines.Line2D at 0x30d59e0e0>]"
      ]
     },
     "execution_count": 23,
     "metadata": {},
     "output_type": "execute_result"
    },
    {
     "data": {
      "image/png": "[encoded data removed]",
      "text/plain": [
       "<Figure size 640x480 with 1 Axes>"
      ]
     },
     "metadata": {},
     "output_type": "display_data"
    }
   ],
   "source": [
    "import matplotlib.pyplot as plt\n",
    "climb_energies = [image.get_potential_energy() for image in neb.images]\n",
    "climb_norm_energies = [energy - climb_energies[0] for energy in climb_energies]\n",
    "print(f\"Barrier energy: {max(climb_norm_energies)} eV\")\n",
    "plt.plot(climb_norm_energies, marker='o')"
   ]
  },
  {
   "cell_type": "code",
   "execution_count": 38,
   "metadata": {},
   "outputs": [
    {
     "data": {
      "text/plain": [
       "'./data/pre_vasp/NEB/Cr5Ti5V115_preconv/INCAR'"
      ]
     },
     "execution_count": 38,
     "metadata": {},
     "output_type": "execute_result"
    }
   ],
   "source": [
    "import os\n",
    "# write the intepolated images to a poscar as POSCAR files \n",
    "data_path = './data/pre_vasp/NEB/Cr5Ti5V115_preconv'\n",
    "if not os.path.exists(data_path):\n",
    "    os.makedirs(data_path)\n",
    "\n",
    "for i, image in enumerate(neb.images):\n",
    "    folder_path = os.path.join(data_path, f\"0{i}\")\n",
    "    if not os.path.exists(folder_path):\n",
    "        os.makedirs(folder_path)\n",
    "    write(os.path.join(folder_path,\"POSCAR\"), image)\n",
    "    write(os.path.join(data_path, f\"POSCAR_{i}.xyz\"),image)\n",
    "\n",
    "# copy the start_path and end_path to data_path,\"00\" and \"06\" respectively\n",
    "\n",
    "import shutil\n",
    "shutil.copy(start_path, os.path.join(data_path, \"00\",\"OUTCAR\"))\n",
    "shutil.copy(end_path, os.path.join(data_path, \"06\",\"OUTCAR\"))\n",
    "shutil.copy(os.path.join(os.path.dirname(start_path), \"KPOINTS\"), os.path.join(data_path,\"KPOINTS\"))\n",
    "shutil.copy(os.path.join(os.path.dirname(start_path), \"POTCAR\"), os.path.join(data_path,\"POTCAR\"))\n",
    "shutil.copy(os.path.join(os.path.dirname(start_path), \"INCAR\"), os.path.join(data_path,\"INCAR\"))\n"
   ]
  }
 ],
 "metadata": {
  "kernelspec": {
   "display_name": "mace",
   "language": "python",
   "name": "python3"
  },
  "language_info": {
   "codemirror_mode": {
    "name": "ipython",
    "version": 3
   },
   "file_extension": ".py",
   "mimetype": "text/x-python",
   "name": "python",
   "nbconvert_exporter": "python",
   "pygments_lexer": "ipython3",
   "version": "3.11.0"
  }
 },
 "nbformat": 4,
 "nbformat_minor": 2
}
