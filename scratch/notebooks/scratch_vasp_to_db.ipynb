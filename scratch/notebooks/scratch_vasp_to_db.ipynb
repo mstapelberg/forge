{
 "cells": [
  {
   "cell_type": "markdown",
   "metadata": {},
   "source": [
    "This notebook shows you how to add a folder of finished vasp jobs to the database. This works if you haven't added the structures yet to the database. "
   ]
  },
  {
   "cell_type": "code",
   "execution_count": 1,
   "metadata": {},
   "outputs": [],
   "source": [
    "from forge.workflows.vasp_to_db import process_vasp_directory_and_add\n",
    "from forge.core.database import DatabaseManager\n"
   ]
  },
  {
   "cell_type": "code",
   "execution_count": 2,
   "metadata": {},
   "outputs": [],
   "source": [
    "# 1. Your AWS database credentials\n",
    "db_config = {\n",
    "    'database': {\n",
    "        'dbname': 'test_database',  # The name of the database you created on RDS\n",
    "        'user': 'myless',           # Replace with your RDS username\n",
    "        'password': 'vcrtiwzr',     # Replace with your RDS password\n",
    "        'host': 'database-vcrtiwzr.cfg4i4qmuc4m.us-east-1.rds.amazonaws.com',\n",
    "        'port': 5432                # Default Postgres port unless you changed it\n",
    "    }\n",
    "}\n",
    "\n",
    "# 2. Instantiate the DatabaseManager\n",
    "db_manager = DatabaseManager(config_dict=db_config)\n"
   ]
  },
  {
   "cell_type": "code",
   "execution_count": 7,
   "metadata": {},
   "outputs": [
    {
     "name": "stdout",
     "output_type": "stream",
     "text": [
      "[INFO] Starting WF-A batch processing of VASP directories in: ../data/job_gen_8-2025-11-11\n",
      "[INFO] Found 4 potential VASP calculation directories.\n"
     ]
    },
    {
     "name": "stderr",
     "output_type": "stream",
     "text": [
      "Processing VASP dirs (WF-A): 100%|██████████| 4/4 [00:01<00:00,  3.11it/s, Processing: ...2025-11-11/Cr/Cr2_bcc_distorted_idx_2129]"
     ]
    },
    {
     "name": "stdout",
     "output_type": "stream",
     "text": [
      "\n",
      "[INFO] Finished WF-A batch processing.\n",
      "  - Successfully processed (OUTCAR parsed): 4\n",
      "  - Successfully added to DB (Structure + Calc): 4\n",
      "  - Skipped as duplicate: 0\n",
      "  - Failed (Parse Error or Missing Data): 0\n",
      "  - Failed (DB Add Error): 0\n"
     ]
    },
    {
     "name": "stderr",
     "output_type": "stream",
     "text": [
      "\n"
     ]
    }
   ],
   "source": [
    "process_vasp_directory_and_add(db_manager=db_manager, base_dir='../data/job_gen_8-2025-11-11/')"
   ]
  },
  {
   "cell_type": "code",
   "execution_count": 8,
   "metadata": {},
   "outputs": [
    {
     "name": "stdout",
     "output_type": "stream",
     "text": [
      "\n",
      "Recent structures:\n",
      "ID: 22110, Formula: Cr2, Composition: {'Cr': {'at_frac': 1.0, 'num_atoms': 2}}, Generation: 8\n",
      "ID: 22109, Formula: Cr53, Composition: {'Cr': {'at_frac': 1.0, 'num_atoms': 53}}, Generation: 8\n",
      "ID: 22108, Formula: Cr252, Composition: {'Cr': {'at_frac': 1.0, 'num_atoms': 252}}, Generation: 8\n",
      "ID: 22107, Formula: Cr2, Composition: {'Cr': {'at_frac': 1.0, 'num_atoms': 2}}, Generation: 8\n"
     ]
    }
   ],
   "source": [
    "indices = []\n",
    "# View recent structures\n",
    "with db_manager.conn.cursor() as cur:\n",
    "    cur.execute(\"\"\"\n",
    "        SELECT structure_id, formula, composition, metadata->>'generation' as gen \n",
    "        FROM structures \n",
    "        ORDER BY structure_id DESC \n",
    "        LIMIT 4\n",
    "    \"\"\")\n",
    "    print(\"\\nRecent structures:\")\n",
    "    for row in cur.fetchall():\n",
    "        indices.append(row[0])\n",
    "        print(f\"ID: {row[0]}, Formula: {row[1]}, Composition: {row[2]}, Generation: {row[3]}\")"
   ]
  },
  {
   "cell_type": "code",
   "execution_count": 9,
   "metadata": {},
   "outputs": [
    {
     "name": "stdout",
     "output_type": "stream",
     "text": [
      "Structure 22110 : Atoms(symbols='Cr2', pbc=True, cell=[[2.769994183, -0.051238416, -0.020935818], [0.094092245, 2.72388619, -0.121657161], [0.017253027, -0.06338447, 2.808931297]])\n",
      "Structure Metadata: {'generation': 8, 'config_type': 'bcc_distorted', 'source_path': '../data/job_gen_8-2025-11-11/Cr/Cr2_bcc_distorted_idx_2129', 'formula_string': 'Cr2', 'composition_str': 'Cr2', 'structure_index': 2129, 'date_added_to_db': '2025-04-13T23:25:25.823475'}\n",
      "-18.827078\n",
      "{'nbands': 16, 'parser': 'ase_outcar', 'potcar': 'PAW_PBE Cr_pv 02Aug2007', 'kpoints': [17, 18, 17], 'date_run': '2025.03.30  15:30:12', 'vasp_version': 'vasp.6.4.2 20Jul23', 'resources_used': {'nodes': 1, 'mpi_ranks': 4, 'gpus_detected': True, 'threads_per_rank': 8}, 'calculation_type': 'static'}\n",
      "Structure 22109 : Atoms(symbols='Cr53', pbc=True, cell=[[8.516023083, 1.19e-07, 5.1e-08], [1.19e-07, 8.516022908, -2.1e-07], [5.1e-08, -2.1e-07, 8.516022849]])\n",
      "Structure Metadata: {'generation': 8, 'config_type': 'vacancy', 'source_path': '../data/job_gen_8-2025-11-11/Cr/Cr53_vacancy_idx_3396', 'formula_string': 'Cr53', 'composition_str': 'Cr53', 'structure_index': 3396, 'date_added_to_db': '2025-04-13T23:25:25.415482'}\n",
      "-498.77643\n",
      "{'nbands': 384, 'parser': 'ase_outcar', 'potcar': 'PAW_PBE Cr_pv 02Aug2007', 'kpoints': [6, 6, 6], 'date_run': '2025.03.30  18:22:48', 'vasp_version': 'vasp.6.4.2 20Jul23', 'resources_used': {'nodes': 1, 'mpi_ranks': 4, 'gpus_detected': True, 'threads_per_rank': 8}, 'calculation_type': 'static'}\n",
      "Structure 22108 : Atoms(symbols='Cr252', pbc=True, cell=[14.33722839, 14.33722839, 14.33722839])\n",
      "Structure Metadata: {'generation': 8, 'config_type': 'di-sia', 'source_path': '../data/job_gen_8-2025-11-11/Cr/Cr252_di-sia_idx_3487', 'formula_string': 'Cr252', 'composition_str': 'Cr252', 'structure_index': 3487, 'date_added_to_db': '2025-04-13T23:25:25.166303'}\n",
      "-2371.8926\n",
      "{'nbands': 1816, 'parser': 'ase_outcar', 'potcar': 'PAW_PBE Cr_pv 02Aug2007', 'kpoints': [3, 3, 3], 'date_run': '2025.03.30  13:07:27', 'vasp_version': 'vasp.6.4.2 20Jul23', 'resources_used': {'nodes': 1, 'mpi_ranks': 4, 'gpus_detected': True, 'threads_per_rank': 8}, 'calculation_type': 'static'}\n",
      "Structure 22107 : Atoms(symbols='Cr2', pbc=True, cell=[[2.806728949, -0.110736871, -0.035826298], [0.002228984, 2.80949391, 0.12646969], [0.011110336, -0.006716037, 2.872219278]])\n",
      "Structure Metadata: {'generation': 8, 'config_type': 'bcc_distorted', 'source_path': '../data/job_gen_8-2025-11-11/Cr/Cr2_bcc_distorted_idx_2223', 'formula_string': 'Cr2', 'composition_str': 'Cr2', 'structure_index': 2223, 'date_added_to_db': '2025-04-13T23:25:24.854315'}\n",
      "-18.982733\n",
      "{'nbands': 16, 'parser': 'ase_outcar', 'potcar': 'PAW_PBE Cr_pv 02Aug2007', 'kpoints': [17, 17, 17], 'date_run': '2025.03.30  15:38:41', 'vasp_version': 'vasp.6.4.2 20Jul23', 'resources_used': {'nodes': 1, 'mpi_ranks': 4, 'gpus_detected': True, 'threads_per_rank': 8}, 'calculation_type': 'static'}\n"
     ]
    }
   ],
   "source": [
    "for i in indices:\n",
    "    print(f\"Structure {i} : {db_manager.get_structure(i)}\")\n",
    "    print(f\"Structure Metadata: {db_manager.get_structure_metadata(i)}\")\n",
    "    print(f\"{db_manager.get_calculations(i)[0]['energy']}\")\n",
    "    print(f\"{db_manager.get_calculations(i)[0]['metadata']}\")\n"
   ]
  },
  {
   "cell_type": "code",
   "execution_count": 6,
   "metadata": {},
   "outputs": [
    {
     "name": "stdout",
     "output_type": "stream",
     "text": [
      "[INFO] Attempting to remove structure ID: 22106 and its calculations...\n",
      "[INFO] Removed associated calculation IDs: [22101]\n",
      "[INFO] Successfully removed structure ID: 22106\n",
      "[INFO] Removal of structure 22106 committed.\n",
      "[INFO] Attempting to remove structure ID: 22105 and its calculations...\n",
      "[INFO] Removed associated calculation IDs: [22100]\n",
      "[INFO] Successfully removed structure ID: 22105\n",
      "[INFO] Removal of structure 22105 committed.\n",
      "[INFO] Attempting to remove structure ID: 22104 and its calculations...\n",
      "[INFO] Removed associated calculation IDs: [22099]\n",
      "[INFO] Successfully removed structure ID: 22104\n",
      "[INFO] Removal of structure 22104 committed.\n",
      "[INFO] Attempting to remove structure ID: 22103 and its calculations...\n",
      "[INFO] Removed associated calculation IDs: [22098]\n",
      "[INFO] Successfully removed structure ID: 22103\n",
      "[INFO] Removal of structure 22103 committed.\n"
     ]
    }
   ],
   "source": [
    "for i in indices:\n",
    "    db_manager.remove_structure(i)"
   ]
  }
 ],
 "metadata": {
  "kernelspec": {
   "display_name": "forge",
   "language": "python",
   "name": "python3"
  },
  "language_info": {
   "codemirror_mode": {
    "name": "ipython",
    "version": 3
   },
   "file_extension": ".py",
   "mimetype": "text/x-python",
   "name": "python",
   "nbconvert_exporter": "python",
   "pygments_lexer": "ipython3",
   "version": "3.11.0"
  }
 },
 "nbformat": 4,
 "nbformat_minor": 2
}
