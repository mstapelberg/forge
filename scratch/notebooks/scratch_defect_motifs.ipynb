{
 "cells": [
  {
   "cell_type": "code",
   "execution_count": 1,
   "metadata": {},
   "outputs": [],
   "source": [
    "from ase.io import read,write"
   ]
  },
  {
   "cell_type": "code",
   "execution_count": 2,
   "metadata": {},
   "outputs": [],
   "source": [
    "atoms_list = read('/Users/myless/Packages/al_mlip_repo/data/nordlund_data/nordlund_data/db_V.xyz',index=':')"
   ]
  },
  {
   "cell_type": "code",
   "execution_count": 3,
   "metadata": {},
   "outputs": [],
   "source": [
    "config_types = [atoms.info['config_type'] for atoms in atoms_list]"
   ]
  },
  {
   "cell_type": "code",
   "execution_count": 5,
   "metadata": {},
   "outputs": [
    {
     "name": "stdout",
     "output_type": "stream",
     "text": [
      "['di-vacancy', 'hcp', 'sia', 'C15', 'surf_liquid', 'surface_111', 'dia', 'phonon', 'slice_sample', 'bcc_distorted', 'surface_110', 'A15', 'isolated_atom', 'fcc', 'dimer', 'di-SIA', 'sc', 'surface_100', 'tri-vacancy', 'liquid', 'short_range', 'surface_112', 'vacancy']\n"
     ]
    }
   ],
   "source": [
    "unique_config_types = list(set(config_types))\n",
    "print(unique_config_types)\n"
   ]
  },
  {
   "cell_type": "code",
   "execution_count": 6,
   "metadata": {},
   "outputs": [
    {
     "name": "stdout",
     "output_type": "stream",
     "text": [
      "Selected 23 atoms objects, one from each config_type:\n",
      "Config type: isolated_atom, Atoms count: 1\n",
      "Config type: dimer, Atoms count: 2\n",
      "Config type: slice_sample, Atoms count: 1\n",
      "Config type: bcc_distorted, Atoms count: 2\n",
      "Config type: fcc, Atoms count: 1\n",
      "Config type: hcp, Atoms count: 2\n",
      "Config type: sc, Atoms count: 1\n",
      "Config type: dia, Atoms count: 2\n",
      "Config type: A15, Atoms count: 8\n",
      "Config type: C15, Atoms count: 6\n",
      "Config type: phonon, Atoms count: 54\n",
      "Config type: vacancy, Atoms count: 53\n",
      "Config type: di-vacancy, Atoms count: 118\n",
      "Config type: tri-vacancy, Atoms count: 117\n",
      "Config type: surface_100, Atoms count: 12\n",
      "Config type: surface_110, Atoms count: 12\n",
      "Config type: surface_111, Atoms count: 12\n",
      "Config type: surface_112, Atoms count: 12\n",
      "Config type: liquid, Atoms count: 128\n",
      "Config type: surf_liquid, Atoms count: 144\n",
      "Config type: sia, Atoms count: 121\n",
      "Config type: di-SIA, Atoms count: 252\n",
      "Config type: short_range, Atoms count: 55\n"
     ]
    }
   ],
   "source": [
    "import random\n",
    "\n",
    "# Create a dictionary to store atoms by config_type\n",
    "atoms_by_config_type = {}\n",
    "\n",
    "# Group atoms by their config_type\n",
    "for atoms in atoms_list:\n",
    "    config_type = atoms.info['config_type']\n",
    "    if config_type not in atoms_by_config_type:\n",
    "        atoms_by_config_type[config_type] = []\n",
    "    atoms_by_config_type[config_type].append(atoms)\n",
    "\n",
    "# Randomly select one atoms object for each config_type\n",
    "selected_atoms = {}\n",
    "for config_type, atoms_group in atoms_by_config_type.items():\n",
    "    selected_atoms[config_type] = random.choice(atoms_group)\n",
    "\n",
    "# Print the number of selected atoms and their config_types\n",
    "print(f\"Selected {len(selected_atoms)} atoms objects, one from each config_type:\")\n",
    "for config_type, atoms in selected_atoms.items():\n",
    "    print(f\"Config type: {config_type}, Atoms count: {len(atoms)}\")\n",
    "\n",
    "# If you want to access the selected atoms directly:\n",
    "# Example: selected_atoms_list = list(selected_atoms.values())"
   ]
  },
  {
   "cell_type": "code",
   "execution_count": 7,
   "metadata": {},
   "outputs": [],
   "source": [
    "selected_atoms_list = list(selected_atoms.values())"
   ]
  },
  {
   "cell_type": "code",
   "execution_count": 9,
   "metadata": {},
   "outputs": [
    {
     "name": "stdout",
     "output_type": "stream",
     "text": [
      "23\n",
      "Atoms(symbols='V', pbc=True, cell=[16.0, 17.0, 18.0], force=..., calculator=SinglePointCalculator(...))\n",
      "Atoms(symbols='V2', pbc=True, cell=[30.0, 18.0, 17.0], force=..., calculator=SinglePointCalculator(...))\n",
      "Atoms(symbols='V', pbc=True, cell=[[3.1449989167, 0.0, 0.0], [-0.085442712982, 3.30104351562, 0.0], [1.52828181792, 1.63312915564, 1.58267931039]], force=..., calculator=SinglePointCalculator(...))\n",
      "Atoms(symbols='V2', pbc=True, cell=[[3.0686997051, -0.0677016542509, -0.141333577428], [0.118476714775, 3.3062099481, -0.147897891354], [0.035264401676, 0.122564549873, 3.23623253843]], force=..., calculator=SinglePointCalculator(...))\n",
      "Atoms(symbols='V', pbc=True, cell=[[0.18928843002, 2.14911842204, 2.22496789884], [2.23462350714, -0.164243938356, 2.14930527284], [1.89714932318, 2.24411230338, -0.178448838746]], force=..., calculator=SinglePointCalculator(...))\n",
      "Atoms(symbols='V2', pbc=True, cell=[[2.807789436, -0.0211411299687, -0.0361828745966], [-1.42469785666, 2.42713581887, 0.0433093179008], [0.0229605236275, 0.0466640030168, 4.53911303049]], force=..., calculator=SinglePointCalculator(...))\n",
      "Atoms(symbols='V', pbc=True, cell=[[2.79230694827, 0.170798662381, 0.0957765472409], [-0.208696136246, 2.6224096754, 0.0565043817941], [-0.20843378585, 0.116058090453, 2.85766757135]], force=..., calculator=SinglePointCalculator(...))\n",
      "Atoms(symbols='V2', pbc=True, cell=[[-0.0872965101078, 3.04232513125, 2.99088050772], [2.97870080389, -0.136820388452, 2.79862040277], [2.84378558107, 2.80027647645, 0.110686643187]], force=..., calculator=SinglePointCalculator(...))\n",
      "Atoms(symbols='V8', pbc=True, cell=[[5.01684886285, -0.0320150029099, 0.0155722059135], [-0.0509570197802, 5.11635363205, 0.0510405393178], [0.0267875317048, 0.0570781293344, 5.02983495797]], force=..., calculator=SinglePointCalculator(...))\n",
      "Atoms(symbols='V6', pbc=True, cell=[[0.0196159089585, 3.73433858714, 3.65827533483], [3.6336487028, 0.065367689199, 3.64032722351], [3.64915414391, 3.63429432218, -0.0186933726404]], force=..., calculator=SinglePointCalculator(...))\n",
      "Atoms(symbols='V54', pbc=True, cell=[9.57, 9.57, 9.57], force=..., calculator=SinglePointCalculator(...))\n",
      "Atoms(symbols='V53', pbc=True, cell=[[9.5333747056, 1.33054787026e-07, 5.7617177516e-08], [1.33054787541e-07, 9.53337451035, -2.34862443313e-07], [5.76171779017e-08, -2.34862444047e-07, 9.53337444411]], force=..., calculator=SinglePointCalculator(...))\n",
      "Atoms(symbols='V118', pbc=True, cell=[9.558, 12.744, 15.93], force=..., calculator=SinglePointCalculator(...))\n",
      "Atoms(symbols='V117', pbc=True, cell=[9.555, 12.74, 15.925], force=..., calculator=SinglePointCalculator(...))\n",
      "Atoms(symbols='V12', pbc=True, cell=[29.1241217098, 3.18499724956, 3.18499724956], force=..., calculator=SinglePointCalculator(...))\n",
      "Atoms(symbols='V12', pbc=True, cell=[23.5269376698, 4.50426548437, 3.18499724956], force=..., calculator=SinglePointCalculator(...))\n",
      "Atoms(symbols='V12', pbc=True, cell=[[4.50448285677, 0.0, 0.0], [2.25224142838, 3.90099658568, 0.0], [0.0, 0.0, 28.0992496563]], force=..., calculator=SinglePointCalculator(...))\n",
      "Atoms(symbols='V12', pbc=True, cell=[25.6173740443, 2.75828859849, 4.50426548437], force=..., calculator=SinglePointCalculator(...))\n",
      "Atoms(symbols='V128', pbc=True, cell=[13.8, 13.8, 13.8], force=..., calculator=SinglePointCalculator(...))\n",
      "Atoms(symbols='V144', pbc=True, cell=[12.92, 13.7037294194, 30.0], force=..., calculator=SinglePointCalculator(...))\n",
      "Atoms(symbols='V121', pbc=True, cell=[9.6223011146, 12.8607957866, 16.0060113694], force=..., calculator=SinglePointCalculator(...))\n",
      "Atoms(symbols='V252', pbc=True, cell=[16.05, 16.05, 16.05], force=..., calculator=SinglePointCalculator(...))\n",
      "Atoms(symbols='V55', pbc=True, cell=[9.651, 9.651, 9.651], force=..., calculator=SinglePointCalculator(...))\n"
     ]
    }
   ],
   "source": [
    "print(len(selected_atoms_list))\n",
    "for atoms in selected_atoms_list:\n",
    "    print(atoms)"
   ]
  },
  {
   "cell_type": "code",
   "execution_count": 10,
   "metadata": {},
   "outputs": [],
   "source": [
    "from ase.io import write\n",
    "write('defect_motifs_v.xyz', selected_atoms_list)"
   ]
  }
 ],
 "metadata": {
  "kernelspec": {
   "display_name": "mace",
   "language": "python",
   "name": "python3"
  },
  "language_info": {
   "codemirror_mode": {
    "name": "ipython",
    "version": 3
   },
   "file_extension": ".py",
   "mimetype": "text/x-python",
   "name": "python",
   "nbconvert_exporter": "python",
   "pygments_lexer": "ipython3",
   "version": "3.11.10"
  }
 },
 "nbformat": 4,
 "nbformat_minor": 2
}
