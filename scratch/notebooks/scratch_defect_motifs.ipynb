{
 "cells": [
  {
   "cell_type": "markdown",
   "metadata": {},
   "source": [
    "# Inspect Defect Motifs"
   ]
  },
  {
   "cell_type": "code",
   "execution_count": 3,
   "metadata": {},
   "outputs": [],
   "source": [
    "from ase.io import read,write"
   ]
  },
  {
   "cell_type": "code",
   "execution_count": 4,
   "metadata": {},
   "outputs": [],
   "source": [
    "data_path = '/Users/myless/Packages/al_mlip_repo/data/scratch/untouched_nordlund/db_V.xyz'\n",
    "#atoms_list = read('/Users/myless/Packages/al_mlip_repo/data/nordlund_data/nordlund_data/db_V.xyz',index=':')\n",
    "atoms_list = read(data_path,index=':')"
   ]
  },
  {
   "cell_type": "code",
   "execution_count": 5,
   "metadata": {},
   "outputs": [],
   "source": [
    "config_types = [atoms.info['config_type'] for atoms in atoms_list]"
   ]
  },
  {
   "cell_type": "code",
   "execution_count": 6,
   "metadata": {},
   "outputs": [
    {
     "name": "stdout",
     "output_type": "stream",
     "text": [
      "['surface_111', 'fcc', 'tri-vacancy', 'C15', 'di-vacancy', 'A15', 'surface_112', 'short_range', 'gamma_surface', 'phonon', 'sia', 'surf_liquid', 'isolated_atom', 'dia', 'dimer', 'surface_100', 'bcc_distorted', 'surface_110', 'di-sia', 'sc', 'hcp', 'slice_sample', 'vacancy', 'liquid']\n"
     ]
    }
   ],
   "source": [
    "unique_config_types = list(set(config_types))\n",
    "print(unique_config_types)\n"
   ]
  },
  {
   "cell_type": "code",
   "execution_count": 7,
   "metadata": {},
   "outputs": [
    {
     "name": "stdout",
     "output_type": "stream",
     "text": [
      "Selected 24 atoms objects, one from each config_type:\n",
      "Config type: isolated_atom, Atoms count: 1\n",
      "Config type: dimer, Atoms count: 2\n",
      "Config type: slice_sample, Atoms count: 1\n",
      "Config type: bcc_distorted, Atoms count: 2\n",
      "Config type: fcc, Atoms count: 1\n",
      "Config type: hcp, Atoms count: 2\n",
      "Config type: A15, Atoms count: 8\n",
      "Config type: C15, Atoms count: 6\n",
      "Config type: sc, Atoms count: 1\n",
      "Config type: dia, Atoms count: 2\n",
      "Config type: phonon, Atoms count: 54\n",
      "Config type: vacancy, Atoms count: 53\n",
      "Config type: di-vacancy, Atoms count: 118\n",
      "Config type: tri-vacancy, Atoms count: 117\n",
      "Config type: sia, Atoms count: 121\n",
      "Config type: di-sia, Atoms count: 122\n",
      "Config type: surface_100, Atoms count: 12\n",
      "Config type: surface_110, Atoms count: 12\n",
      "Config type: surface_111, Atoms count: 12\n",
      "Config type: surface_112, Atoms count: 12\n",
      "Config type: surf_liquid, Atoms count: 144\n",
      "Config type: liquid, Atoms count: 128\n",
      "Config type: short_range, Atoms count: 54\n",
      "Config type: gamma_surface, Atoms count: 12\n"
     ]
    }
   ],
   "source": [
    "import random\n",
    "\n",
    "# Create a dictionary to store atoms by config_type\n",
    "atoms_by_config_type = {}\n",
    "\n",
    "# Group atoms by their config_type\n",
    "for atoms in atoms_list:\n",
    "    config_type = atoms.info['config_type']\n",
    "    if config_type not in atoms_by_config_type:\n",
    "        atoms_by_config_type[config_type] = []\n",
    "    atoms_by_config_type[config_type].append(atoms)\n",
    "\n",
    "# Randomly select one atoms object for each config_type\n",
    "selected_atoms = {}\n",
    "for config_type, atoms_group in atoms_by_config_type.items():\n",
    "    selected_atoms[config_type] = random.choice(atoms_group)\n",
    "\n",
    "# Print the number of selected atoms and their config_types\n",
    "print(f\"Selected {len(selected_atoms)} atoms objects, one from each config_type:\")\n",
    "for config_type, atoms in selected_atoms.items():\n",
    "    print(f\"Config type: {config_type}, Atoms count: {len(atoms)}\")\n",
    "\n",
    "# If you want to access the selected atoms directly:\n",
    "# Example: selected_atoms_list = list(selected_atoms.values())"
   ]
  },
  {
   "cell_type": "code",
   "execution_count": 8,
   "metadata": {},
   "outputs": [],
   "source": [
    "selected_atoms_list = list(selected_atoms.values())"
   ]
  },
  {
   "cell_type": "code",
   "execution_count": 9,
   "metadata": {},
   "outputs": [
    {
     "name": "stdout",
     "output_type": "stream",
     "text": [
      "24\n",
      "Atoms(symbols='V', pbc=True, cell=[17.0, 18.0, 19.0], force=..., calculator=SinglePointCalculator(...))\n",
      "Atoms(symbols='V2', pbc=True, cell=[30.0, 18.0, 17.0], force=..., calculator=SinglePointCalculator(...))\n",
      "Atoms(symbols='V', pbc=True, cell=[[2.80924723759, 0.0, 0.0], [0.00728066656487, 2.99652982273, 0.0], [1.49826490194, 1.49826490194, 1.61007823951]], force=..., calculator=SinglePointCalculator(...))\n",
      "Atoms(symbols='V2', pbc=True, cell=[[2.82405885166, -0.306085246967, 0.154425757243], [0.383977336714, 3.43578472211, 0.488300475396], [-0.561378921457, 0.167320763449, 3.73625457196]], force=..., calculator=SinglePointCalculator(...))\n",
      "Atoms(symbols='V', pbc=True, cell=[[0.0375487284319, 1.93862060216, 1.7119972513], [1.97830465142, 0.0855329937834, 1.96918282999], [2.03812139838, 2.11933146392, -0.208850676076]], force=..., calculator=SinglePointCalculator(...))\n",
      "Atoms(symbols='V2', pbc=True, cell=[[2.65551627221, 0.0251909385786, 0.00487697882895], [-1.34390931748, 2.36466902714, -0.028740938261], [0.0470724731261, 0.000767127816102, 4.4079140452]], force=..., calculator=SinglePointCalculator(...))\n",
      "Atoms(symbols='V8', pbc=True, cell=[[4.72933149834, -0.0667950658686, 0.0465220504201], [0.0272907562826, 4.74740699034, -0.0120339565516], [0.0598917942309, 0.0305553683737, 4.75281168814]], force=..., calculator=SinglePointCalculator(...))\n",
      "Atoms(symbols='V6', pbc=True, cell=[[0.0897389729518, 3.45707222083, 3.18038629437], [3.80198412228, -0.390908558565, 3.52792871689], [3.39992991592, 3.59219056193, -0.398798064921]], force=..., calculator=SinglePointCalculator(...))\n",
      "Atoms(symbols='V', pbc=True, cell=[[2.43133905436, -0.00528391798626, 0.0188936812753], [-0.0151164753024, 2.45101157617, 0.0233531116766], [-0.0150173520415, 0.0136653257946, 2.42143810453]], force=..., calculator=SinglePointCalculator(...))\n",
      "Atoms(symbols='V2', pbc=True, cell=[[0.0177951881725, 2.70223100518, 2.69242950094], [2.732239468, 0.129582403594, 2.93261882275], [2.91385320008, 2.5220897726, -0.199220471836]], force=..., calculator=SinglePointCalculator(...))\n",
      "Atoms(symbols='V54', pbc=True, cell=[9.07990802072, 9.07990802072, 9.07990802072], force=..., calculator=SinglePointCalculator(...))\n",
      "Atoms(symbols='V53', pbc=True, cell=[[8.96924313065, 1.25181351975e-07, 5.42077165329e-08], [1.2518135246e-07, 8.96924294695, -2.20964602923e-07], [5.42077168957e-08, -2.20964603612e-07, 8.96924288464]], force=..., calculator=SinglePointCalculator(...))\n",
      "Atoms(symbols='V118', pbc=True, cell=[8.99241123843, 11.9898816512, 14.9873520641], force=..., calculator=SinglePointCalculator(...))\n",
      "Atoms(symbols='V117', pbc=True, cell=[8.98958876157, 11.9861183488, 14.9826479359], force=..., calculator=SinglePointCalculator(...))\n",
      "Atoms(symbols='V121', pbc=True, cell=[9.04215026885, 12.0474946843, 15.109870339], force=..., calculator=SinglePointCalculator(...))\n",
      "Atoms(symbols='V122', pbc=True, cell=[15.100251138, 9.06015068278, 12.0802009104], force=..., calculator=SinglePointCalculator(...))\n",
      "Atoms(symbols='V12', pbc=True, cell=[27.4007197502, 2.9965269995, 2.9965269995], force=..., calculator=SinglePointCalculator(...))\n",
      "Atoms(symbols='V12', pbc=True, cell=[22.1347456275, 4.23772834929, 2.9965269995], force=..., calculator=SinglePointCalculator(...))\n",
      "Atoms(symbols='V12', pbc=True, cell=[[4.23793285881, 0.0, 0.0], [2.1189664294, 3.67015751602, 0.0], [0.0, 0.0, 26.4364938691]], force=..., calculator=SinglePointCalculator(...))\n",
      "Atoms(symbols='V12', pbc=True, cell=[24.1014817174, 2.59506856998, 4.23772834929], force=..., calculator=SinglePointCalculator(...))\n",
      "Atoms(symbols='V144', pbc=True, cell=[12.1554669596, 12.8928196735, 28.2247684822], force=..., calculator=SinglePointCalculator(...))\n",
      "Atoms(symbols='V128', pbc=True, cell=[13.9242191178, 13.9242191178, 13.9242191178], force=..., calculator=SinglePointCalculator(...))\n",
      "Atoms(symbols='V54', pbc=True, cell=[[8.96924313065, 1.25181351975e-07, 5.42077165329e-08], [1.2518135246e-07, 8.96924294695, -2.20964602923e-07], [5.42077168957e-08, -2.20964603612e-07, 8.96924288464]], force=..., calculator=SinglePointCalculator(...))\n",
      "Atoms(symbols='V12', pbc=True, cell=[[12.7171899362, 0.423906327751, 1.19898816512], [0.0, 4.23906331521, 0.0], [0.0, 0.0, 2.99747041281]], force=..., calculator=SinglePointCalculator(...))\n"
     ]
    }
   ],
   "source": [
    "print(len(selected_atoms_list))\n",
    "for atoms in selected_atoms_list:\n",
    "    print(atoms)"
   ]
  },
  {
   "cell_type": "code",
   "execution_count": 22,
   "metadata": {},
   "outputs": [
    {
     "name": "stdout",
     "output_type": "stream",
     "text": [
      "128\n"
     ]
    }
   ],
   "source": [
    "for atoms in selected_atoms_list:\n",
    "    if atoms.info['config_type'] == 'hcp':\n",
    "        hcp_atoms = atoms * (4,4,4)\n",
    "        print(len(hcp_atoms))"
   ]
  },
  {
   "cell_type": "code",
   "execution_count": 10,
   "metadata": {},
   "outputs": [
    {
     "name": "stdout",
     "output_type": "stream",
     "text": [
      "Skipping isolated_atom because it is in the bad_config_types list\n",
      "Skipping dimer because it is in the bad_config_types list\n",
      "Skipping slice_sample because it is in the bad_config_types list\n",
      "Skipping sc because it is in the bad_config_types list\n",
      "Skipping phonon because it is in the bad_config_types list\n"
     ]
    }
   ],
   "source": [
    "from ase.io import write\n",
    "\n",
    "bad_config_types = ['phonon','isolated_atom', 'dimer', 'sc', 'slice_sample', 'bcc_distorted']\n",
    "\n",
    "for atoms in selected_atoms_list:\n",
    "    # check if the config_type is not in the list of bad config_types\n",
    "    if atoms.info['config_type'] not in bad_config_types:\n",
    "        if atoms.info['config_type'] == 'fcc':\n",
    "            fcc_atoms = atoms * (5,5,5)\n",
    "            write(f'../../forge/core/motifs/{atoms.info[\"config_type\"]}.xyz', fcc_atoms)\n",
    "        elif atoms.info['config_type'] in ['hcp', 'dia']:\n",
    "            new_atoms = atoms * (4,4,4)\n",
    "            write(f\"../../forge/core/motifs/{atoms.info['config_type']}.xyz\", new_atoms)\n",
    "        else:\n",
    "            # write the atoms to a file\n",
    "            write(f'../../forge/core/motifs/{atoms.info[\"config_type\"]}.xyz', atoms)\n",
    "    else:\n",
    "        print(f\"Skipping {atoms.info['config_type']} because it is in the bad_config_types list\")\n"
   ]
  },
  {
   "cell_type": "markdown",
   "metadata": {},
   "source": [
    "# Use Defect Motif Generator to Create Defects in compositions of Interest"
   ]
  },
  {
   "cell_type": "code",
   "execution_count": 11,
   "metadata": {},
   "outputs": [],
   "source": [
    "from forge.core.defect_motifs import generate_defect_structures\n",
    "\n",
    "target_compositions = [{'V' : 0.92, 'Cr' : 0.04, 'Ti' : 0.04},\n",
    "                       {'V' : 0.76, 'Cr' : 0.12, 'Ti' : 0.12},\n",
    "                       {'V' : 0.76, 'Cr' : 0.17, 'Ti' : 0.07},\n",
    "                       {'V' : 0.76, 'Cr' : 0.07, 'Ti' : 0.17},\n",
    "                       {'V' : 0.99, 'Ti' : 0.01}]"
   ]
  },
  {
   "cell_type": "code",
   "execution_count": 12,
   "metadata": {},
   "outputs": [],
   "source": [
    "structures = generate_defect_structures(target_compositions)"
   ]
  },
  {
   "cell_type": "code",
   "execution_count": 14,
   "metadata": {},
   "outputs": [
    {
     "name": "stdout",
     "output_type": "stream",
     "text": [
      "105\n"
     ]
    }
   ],
   "source": [
    "print(len(structures))\n",
    "\n",
    "for struct in structures:\n",
    "    print(struct['motif_type'])"
   ]
  },
  {
   "cell_type": "code",
   "execution_count": 15,
   "metadata": {},
   "outputs": [
    {
     "name": "stdout",
     "output_type": "stream",
     "text": [
      "{'structure': Atoms(symbols='V2', pbc=True, cell=[[2.82405885166, -0.306085246967, 0.154425757243], [0.383977336714, 3.43578472211, 0.488300475396], [-0.561378921457, 0.167320763449, 3.73625457196]], force=...), 'target_composition_input': {'V': 0.92, 'Cr': 0.04, 'Ti': 0.04}, 'parsed_composition_fractional': {'V': 0.92, 'Cr': 0.04, 'Ti': 0.04}, 'motif_type': 'bcc_distorted', 'N_total_in_structure': 2, 'atom_counts_in_structure': {'Cr': 0, 'Ti': 0, 'V': 2}, 'actual_composition_fractional': {'Cr': 0.0, 'Ti': 0.0, 'V': 1.0}, 'variant_index': 0}\n"
     ]
    }
   ],
   "source": [
    "print(structures[0])"
   ]
  }
 ],
 "metadata": {
  "kernelspec": {
   "display_name": "mace",
   "language": "python",
   "name": "python3"
  },
  "language_info": {
   "codemirror_mode": {
    "name": "ipython",
    "version": 3
   },
   "file_extension": ".py",
   "mimetype": "text/x-python",
   "name": "python",
   "nbconvert_exporter": "python",
   "pygments_lexer": "ipython3",
   "version": "3.11.0"
  }
 },
 "nbformat": 4,
 "nbformat_minor": 2
}
